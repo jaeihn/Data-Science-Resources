{
 "cells": [
  {
   "cell_type": "markdown",
   "id": "9c970cfe-fa36-4876-a535-47cc98d3cf66",
   "metadata": {},
   "source": [
    "# R"
   ]
  },
  {
   "cell_type": "markdown",
   "id": "96093591-ecb8-4de4-806a-95685a8cefad",
   "metadata": {},
   "source": [
    "## Resources\n",
    "* [knitr Documentation](https://yihui.org/knitr/options/)\n",
    "* [What they forgot to teach you about R](https://rstats.wtf/)\n",
    "* [Reproducible Research in R](https://r-cubed.rostools.org/)\n",
    "* [Environments for R renv](https://www.rstudio.com/blog/renv-project-environments-for-r/)\n",
    "* [R for Data Science](https://r4ds.had.co.nz/index.html)"
   ]
  },
  {
   "cell_type": "markdown",
   "id": "a32d93d6-102d-4190-87e2-dfd873239f40",
   "metadata": {},
   "source": [
    "## General\n",
    "\n",
    "- Use <- for assignment\n",
    "- indexing starts from 1, not 0\n",
    "- copy-on-modify\n",
    "- laze evaluation--only when accessed"
   ]
  },
  {
   "cell_type": "markdown",
   "id": "12dadb2e-ab99-421b-bd64-30219cdcd78f",
   "metadata": {},
   "source": [
    "### What version of packages am I using?"
   ]
  },
  {
   "cell_type": "markdown",
   "id": "0f06a895-fc90-4dce-a8ca-f845e9ac7c2c",
   "metadata": {},
   "source": [
    "```r\n",
    "install.packages(\"devtools\")\n",
    "devtools::session_info() \n",
    "```"
   ]
  },
  {
   "cell_type": "markdown",
   "id": "5b8d6991-61ef-4c71-9f8f-ff3ff4b98032",
   "metadata": {},
   "source": [
    "### Basic functions"
   ]
  },
  {
   "cell_type": "markdown",
   "id": "008af2cc-ac0e-4b5e-a9db-46b2261bbe4d",
   "metadata": {},
   "source": [
    "```r\n",
    "# import package\n",
    "library(package)\n",
    "\n",
    "# import from script\n",
    "source(\"PATH/TO/script.R\")\n",
    "\n",
    "# return type of x\n",
    "typeof(x)\n",
    "\n",
    "# print information of x\n",
    "## try using it on a data frame \n",
    "str(x)\n",
    "\n",
    "# type testing, returns boolean \n",
    "is.logical(x)\n",
    "is.integer(x)\n",
    "is.double(x)\n",
    "is.character(x)\n",
    "\n",
    "# type casting\n",
    "as.logical(x)\n",
    "as.integer(x)\n",
    "as.double(x)\n",
    "as.character(x)\n",
    "as_tibble(x)\n",
    "\n",
    "# length\n",
    "length()\n",
    "\n",
    "# create data frame\n",
    "data <- data.frame(col1 = c(1, 2, 3), \n",
    "                   col2 = c(1, 2, 3))\n",
    "```"
   ]
  },
  {
   "cell_type": "markdown",
   "id": "01a801db-3033-4355-87d3-cef2f75bf563",
   "metadata": {},
   "source": [
    "### `for` loops"
   ]
  },
  {
   "cell_type": "markdown",
   "id": "8a63e24b-9442-4f82-954b-13bdbc21a4e7",
   "metadata": {},
   "source": [
    "```r\n",
    "# for each item in vector\n",
    "for (item in sequence) {\n",
    "    # action to perform every iteration\n",
    "}\n",
    "\n",
    "# by index \n",
    "for (i in seq_along(sequence)) {\n",
    "    # action to perform every iteration\n",
    "}\n",
    "```"
   ]
  },
  {
   "cell_type": "markdown",
   "id": "9570a970-c93b-4fba-936f-3756aecaa47f",
   "metadata": {},
   "source": [
    "### `if` statements"
   ]
  },
  {
   "cell_type": "markdown",
   "id": "5cead357-66e9-4f4d-b385-54bb3472893e",
   "metadata": {},
   "source": [
    "```r\n",
    "if (condition1) {\n",
    "    # then ...\n",
    "} else if (condition2) {\n",
    "    # then ...\n",
    "} else {\n",
    "    # all other cases\n",
    "}\n",
    "```"
   ]
  },
  {
   "cell_type": "markdown",
   "id": "50cf579b-80cd-44e9-82a5-423d4694d41f",
   "metadata": {},
   "source": [
    "### Writing custom functions"
   ]
  },
  {
   "cell_type": "markdown",
   "id": "fbc2a2db-c55d-45b1-b270-0a41846bd972",
   "metadata": {},
   "source": [
    "```r\n",
    "# named functions\n",
    "f <- function(param1, param2, default_param1 = 0) {\n",
    "       \n",
    "    # exceptions\n",
    "    if (condition)\n",
    "        stop(\"message describing error\")\n",
    "    \n",
    "    # content of function\n",
    "    \n",
    "    # return if necessary\n",
    "    return (...)\n",
    "}\n",
    "\n",
    "# anonymous functions (for mapping etc.)\n",
    "function(x) body_of_function\n",
    "```"
   ]
  },
  {
   "cell_type": "markdown",
   "id": "6c52fa77-2e56-475c-b335-28e861605f2e",
   "metadata": {},
   "source": [
    "### Switching between name as string or object (column)"
   ]
  },
  {
   "cell_type": "markdown",
   "id": "949add77-bec0-49f0-87ef-61a4bce99047",
   "metadata": {},
   "source": [
    "```r\n",
    "# using enquo() and !!\n",
    "f <- function(col, val) {\n",
    "    col <- enquo(col)\n",
    "    filter(data, !!col == val)\n",
    "}\n",
    "\n",
    "# using {{ }} \n",
    "f <- function(col, val) {\n",
    "    filter(data, {{ col }} == val)\n",
    "}\n",
    "\n",
    "# \n",
    "```"
   ]
  },
  {
   "cell_type": "markdown",
   "id": "cd10c72f-a871-48a5-8f05-ca03c9f13a79",
   "metadata": {},
   "source": [
    "### Writing tests"
   ]
  },
  {
   "cell_type": "markdown",
   "id": "9de00194-2f62-4c01-b8b5-377c00f8a04c",
   "metadata": {},
   "source": [
    "``` r\n",
    "library(testthat)\n",
    "\n",
    "test_that(\"MSG TO PRINT WHEN TEST FAILS\", {\n",
    "    # test1\n",
    "    # test2\n",
    "    .\n",
    "    .\n",
    "    .\n",
    "})\n",
    "```"
   ]
  },
  {
   "cell_type": "markdown",
   "id": "c9da290c-aa2f-431d-8681-9bd5f64b4e8d",
   "metadata": {},
   "source": [
    "| statement | test |\n",
    "|-----------|-------------|\n",
    "| `expect_identical` | are two objects exactly equal? |\n",
    "| `expect_equal` | are two objects nearly identical (within tolerance)? | \n",
    "| `expect_equivalent` | are two objects nearly identical (within tolerance)? (ignores attributes) |\n",
    "| `expect_error` | does it raise an error? |\n",
    "| `expect_warning` | does it raise a warning? |\n",
    "| `expect_output` | is the output what it's supposed to be? |\n",
    "| `expect_true` | does it evaluate to TRUE? |  |\n",
    "| `expect_false` | does it evaluate to FALSE?"
   ]
  },
  {
   "cell_type": "markdown",
   "id": "2c6d205c-a1c7-4277-aa16-212d19477e41",
   "metadata": {},
   "source": [
    "### Ignoring errors"
   ]
  },
  {
   "cell_type": "markdown",
   "id": "8aa23498-bc4e-4730-862d-a07528c7c3e7",
   "metadata": {},
   "source": [
    "```r\n",
    "try({\n",
    "    # continue trying, even if it fails midway\n",
    "})\n",
    "```"
   ]
  },
  {
   "cell_type": "markdown",
   "id": "6b4921b7-e554-41ac-8e72-9b59664c4975",
   "metadata": {
    "tags": []
   },
   "source": [
    "## Data structures"
   ]
  },
  {
   "cell_type": "markdown",
   "id": "ec281aa8-aa13-4088-864c-26cf3453d5ea",
   "metadata": {},
   "source": [
    "### Date and Time"
   ]
  },
  {
   "cell_type": "markdown",
   "id": "bcae519a-28e3-47d8-a6c3-6086ea3ed02a",
   "metadata": {},
   "source": [
    "```r\n",
    "library(lubridate)\n",
    "\n",
    "# current date\n",
    "today()\n",
    "\n",
    "# current date and time\n",
    "now()\n",
    "\n",
    "# converting string or numeric to datetime object\n",
    "ymd(\"2017-01-31\")\n",
    "mdy(\"January 31st, 2017\")\n",
    "dmy(31012017)\n",
    "\n",
    "ymd_hms(\"2017-01-31 20:11:59\")\n",
    "mdy_hm(\"01/31/2017 08:01\", tz = \"UTC\")\n",
    "\n",
    "# combine columns to make single date column \n",
    "data |> \n",
    "    mutate(date = make_date(year, month, day))\n",
    "\n",
    "# extract information\n",
    "year(datetime)\n",
    "month(datetime)\n",
    "mday(datetime)\n",
    "yday(datetime)\n",
    "wday(datetime, label = TRUE, abbr = FALSE)\n",
    "```"
   ]
  },
  {
   "cell_type": "markdown",
   "id": "954d5f28-95eb-424f-b4cc-cb36923667f6",
   "metadata": {},
   "source": [
    "### Strings"
   ]
  },
  {
   "cell_type": "markdown",
   "id": "92aa2e1a-2620-4572-9a22-a58d6dc95352",
   "metadata": {},
   "source": [
    "```r\n",
    "library(stringr)\n",
    "library(tidyr)\n",
    "\n",
    "\n",
    "# is pattern in x?\n",
    "str_detect(x, \"pattern\")\n",
    "\n",
    "# what are the actual values that contain the pattern?\n",
    "str_subset(x, \"pattern\")\n",
    "\n",
    "# split string on delimiter\n",
    "# returns a list\n",
    "str_split(x, \" \")\n",
    "\n",
    "# split string on delimiter into a preset container \n",
    "# n = width of container \n",
    "str_split_fixed(x, pattern = \" \", n = 2)\n",
    "\n",
    "# splitting strings in a column into separate columns in data frame\n",
    "\n",
    "data |> \n",
    "    separate(unsplit_col, into= c(\"col1\", \"col2\"), sep = \" \")\n",
    "\n",
    "# length of each string\n",
    "str_length(x)\n",
    "\n",
    "# substrings \n",
    "str_sub(x, 1, 3)\n",
    "\n",
    "# substrings for assignment\n",
    "str_sub(x, 1, 3) <- \"ABC\"\n",
    "\n",
    "# collapse a character vector of length n > 1 into a single string\n",
    "char_vector |> \n",
    "    str_c(collapse = \"-\")\n",
    "\n",
    "# concatenating mulitple vectors\n",
    "str_c(vec1, vec2, sep = \" \")\n",
    "\n",
    "# for concatenating in data frames\n",
    "data |> \n",
    "    unite(\"combined_col\", col1, col2, sep = \" \")\n",
    "\n",
    "# replace a pattern\n",
    "str_replace(x, \"pattern\", \"replacement\")\n",
    "\n",
    "# replace NA values\n",
    "str_replace_na(x, \"pattern\", \"replacement\")\n",
    "\n",
    "# replace NA in data frames\n",
    "replace_na()\n",
    "\n",
    "# filtering rows containing string\n",
    "data |>\n",
    "    filter(str_detect(col, \"pattern\"))\n",
    "\n",
    "# replacing rows containing string\n",
    "data |> \n",
    "    mutate(col = str_replace(col,\n",
    "                             \"pattern\",\n",
    "                             \"replacement\"))\n",
    "\n",
    "# extracts first any search match\n",
    "# returns a character vector \n",
    "str_extract(sentences, search)\n",
    "\n",
    "# extracts all any search matches\n",
    "# returns a list \n",
    "str_extract_all(sentences, search)\n",
    "\n",
    "# capture groups of regex\n",
    "nou <- \"(a|the) ([^ ]+)\"\n",
    "str_match(sentences, noun) \n",
    "```"
   ]
  },
  {
   "cell_type": "markdown",
   "id": "752d01e9-d350-4461-9003-c26c18a8835d",
   "metadata": {},
   "source": [
    "### Factors\n",
    "\n",
    "Useful for data visualization"
   ]
  },
  {
   "cell_type": "markdown",
   "id": "f73006f8-b444-4140-b41e-1e13fdcc2b90",
   "metadata": {},
   "source": [
    "```r\n",
    "library(forcats)\n",
    "\n",
    "levels(col)\n",
    "nlevels(col)\n",
    "\n",
    "# drop unused levels\n",
    "data$col |>\n",
    "    fct_drop()\n",
    "\n",
    "# changing order of factors\n",
    "## by frequency \n",
    "data |>\n",
    "    mutate(col = fct_infreq(col))\n",
    "\n",
    "## by reverse frequency\n",
    "data |> \n",
    "    mutate(col = fct_infreq(col),\n",
    "           col = fct_rev(col))\n",
    "\n",
    "# based on median of another variable / column\n",
    "fct_reorder(reorder_col, by_col)\n",
    "\n",
    "# based on min of another variable / column\n",
    "fct_reorder(reorder_col, by_col, min)\n",
    "\n",
    "# bring specific factors to front of order\n",
    "data$col |>\n",
    "    fct_relevel(\"level1\", \"level2\")\n",
    "\n",
    "```"
   ]
  },
  {
   "cell_type": "markdown",
   "id": "2be4fbdd-c618-47f1-917e-e58d2f1dc098",
   "metadata": {},
   "source": [
    "## Reading / Writing data files"
   ]
  },
  {
   "cell_type": "markdown",
   "id": "fb479e85-9297-4565-9a6b-9e4914b6113f",
   "metadata": {},
   "source": [
    "- Look at the data file first, to choose appropriate function arguments. \n",
    "  - Does it have headers?\n",
    "  - Does it have index names? \n",
    "  - Does it have meta data? \n",
    "  - What delimiter does it use?"
   ]
  },
  {
   "cell_type": "markdown",
   "id": "223559d2-9f0d-481a-9738-3cde20b58a21",
   "metadata": {},
   "source": [
    "### For plain text files"
   ]
  },
  {
   "cell_type": "markdown",
   "id": "0709a281-ca8f-417b-8a6c-c895c5e446c0",
   "metadata": {},
   "source": [
    "```r\n",
    "library(readr)\n",
    "\n",
    "# Default \n",
    "data <- read_csv(\"PATH/TO/FILE/data.csv\")\n",
    "\n",
    "# Skip rows in the beginning (meta data)\n",
    "data <- read_csv(\"PATH/TO/FILE.csv\", skip = 2)\n",
    "\n",
    "# If the file provide column names\n",
    "data <- read_csv(\"PATH/TO/FILE.csv\", col_names = TRUE)\n",
    "\n",
    "\n",
    "# Skip rows in the end (meta data)\n",
    "data <- read_csv(\"PATH/TO/FILE.csv\", n_max = 196)\n",
    "\n",
    "# Specifying delimiter \n",
    "data <- read_delim(\"PATH/TO/FILE.tsv\", \n",
    "                   delim = \"\\t\")\n",
    "\n",
    "# Reading from URL / website\n",
    "data <- read_csv(\"https://URL.com/data.csv\")\n",
    "\n",
    "```"
   ]
  },
  {
   "cell_type": "markdown",
   "id": "22b3c6ca-78c8-4ecd-a108-ee499b3d193a",
   "metadata": {},
   "source": [
    "### For Microsoft Excel files"
   ]
  },
  {
   "cell_type": "markdown",
   "id": "8f7612cf-6d13-4c47-b277-b2c06da8b965",
   "metadata": {},
   "source": [
    "```r\n",
    "library(readxl)\n",
    "\n",
    "# Default\n",
    "data <- read_excel(\"PATH/TO/FILE/data.xlsx\")\n",
    "\n",
    "# Specify sheet inside Excel file\n",
    "data <- read_excel(\"PATH/TO/FILE/data.xlsx\",\n",
    "                  sheet = \"SHEET-NAME\")\n",
    "\n",
    "# Reading from URL / website\n",
    "## You cannot read directly from URL, as with .csv files\n",
    "url <- \"https://URL.com/data.csv\"\n",
    "download.file(url, \"data.csv\")\n",
    "\n",
    "data <- read_excel(\"data.csv\")\n",
    "\n",
    "## If on Windows\n",
    "download.file(url, \"data.csv\", mode = \"wb\")\n",
    "\n",
    "```"
   ]
  },
  {
   "cell_type": "markdown",
   "id": "9acd1834-2bb7-4630-ac78-8fdc5672ff06",
   "metadata": {},
   "source": [
    "### Writing files"
   ]
  },
  {
   "cell_type": "markdown",
   "id": "74ce4382-ae70-4dd7-9242-cd2c1f8b1884",
   "metadata": {},
   "source": [
    "```r\n",
    "write_csv(data, \"data/data.csv\"\n",
    "```"
   ]
  },
  {
   "cell_type": "markdown",
   "id": "d0213abc-3d73-4292-9288-cc181c09e82b",
   "metadata": {},
   "source": [
    "## Wrangling single data frame"
   ]
  },
  {
   "cell_type": "markdown",
   "id": "5dca2104-ecf4-452d-ba23-48d62655ab2b",
   "metadata": {
    "tags": []
   },
   "source": [
    "### Cleaning column names"
   ]
  },
  {
   "cell_type": "markdown",
   "id": "e80d8d82-c4ac-4237-856c-2d6b1eeffacd",
   "metadata": {},
   "source": [
    "```r\n",
    "# Manually renaming column by column\n",
    "data <- rename(data, col1 = `Column One`,\n",
    "                     col2 = `Column Two`,\n",
    "                     col3 = `Column Three`)\n",
    "\n",
    "# Using `janitor` package\n",
    "library(janitor)\n",
    "\n",
    "data <- clean_names(data)\n",
    "```"
   ]
  },
  {
   "cell_type": "markdown",
   "id": "20e0b7d7-0379-4940-8038-1138b16f46b0",
   "metadata": {},
   "source": [
    "### Subsetting data frame"
   ]
  },
  {
   "cell_type": "markdown",
   "id": "4722ea48-174e-4abe-88b5-10a9ef05b615",
   "metadata": {},
   "source": [
    "```r\n",
    "# COLUMNS \n",
    "\n",
    "# can be used to reorder columns\n",
    "select(data, col1, col2, col3)\n",
    "\n",
    "# subset a range of columns\n",
    "select(data, col1:col3)\n",
    "\n",
    "# select all\n",
    "data |> \n",
    "    select() |>\n",
    "    everything()\n",
    "\n",
    "# extract column as vector\n",
    "data |>\n",
    "    pull(col1)\n",
    "\n",
    "# ROWS\n",
    "\n",
    "# subset rows based on condition\n",
    "filter(data, col1 < 10)\n",
    "\n",
    "# multiple conditions (AND)\n",
    "filter(data, col1 == 10, col2 > 50)\n",
    "\n",
    "# one of multiple conditions (OR)\n",
    "filter(data, col1 ==10 | col2 > 50)\n",
    "\n",
    "# if one of the cases\n",
    "filter(data, col1 %in% c(\"case1\", \"case2\", \"case3\"))\n",
    "\n",
    "\n",
    "# select rows by index\n",
    "data |> \n",
    "    slice(1:10)\n",
    "\n",
    "```"
   ]
  },
  {
   "cell_type": "markdown",
   "id": "c1daf86f-9df5-4821-a62f-8c9ef7039d6b",
   "metadata": {},
   "source": [
    "```r\n",
    "# for rows and columns simultaneously\n",
    "```\n",
    "\n",
    "| Operator | Example | Description |\n",
    "|----------|---------|-------------|\n",
    "| \\[ | `data[1:10, ]` | rows 1-10, all columns |\n",
    "| \\[ | `data[1:10]` | columns 1-10 | \n",
    "| \\[\\[ | `data[[1]]` | column 1 as vector\n",
    "| \\$ | `data$col` | column as vector | "
   ]
  },
  {
   "cell_type": "markdown",
   "id": "363ef938-fc3f-4c7b-9011-789025288f87",
   "metadata": {},
   "source": [
    "```r\n",
    "# logical indexing\n",
    "# select rows that meet conditions, for all columns\n",
    "data[data$col1 == 5, ]\n",
    "```"
   ]
  },
  {
   "cell_type": "markdown",
   "id": "f24a97b4-8889-47f7-a302-e013c757eaf0",
   "metadata": {},
   "source": [
    "### Add new variables / columns"
   ]
  },
  {
   "cell_type": "markdown",
   "id": "c7124d37-d347-41d2-99b7-f88d25542db3",
   "metadata": {},
   "source": [
    "```r\n",
    "# by assignment\n",
    "data$col1 <- data$col2 + 10 \n",
    "\n",
    "# by mutation\n",
    "# multiple columns can be mutated at a time\n",
    "data |> \n",
    "    mutate(new_col1 = col1 * col2,\n",
    "           new_col2 = col1 + col2)\n",
    "\n",
    "# changing column in place\n",
    "data |> \n",
    "    mutate(col1 = round(col1, 0))\n",
    "```"
   ]
  },
  {
   "cell_type": "markdown",
   "id": "56239ae5-2fc2-49e4-8719-602889bf277f",
   "metadata": {
    "tags": []
   },
   "source": [
    "### Selective changes to values\n",
    "\n",
    "If you're matching strings, make sure to convert any factor columns into character vectors."
   ]
  },
  {
   "cell_type": "markdown",
   "id": "935feca1-dceb-4e58-bf76-bc58c3e1ca5e",
   "metadata": {},
   "source": [
    "```r\n",
    "data |>\n",
    "    mutate(col = case_when(col == \"case1\" ~ \"replacement1\",\n",
    "                           col == \"case2\" ~ \"replacement2\",\n",
    "                           TRUE ~ col) # keep all other cases as is \n",
    "```"
   ]
  },
  {
   "cell_type": "markdown",
   "id": "e43ca160-b510-44af-922e-7c1fd42d4b0c",
   "metadata": {},
   "source": [
    "### Mapping"
   ]
  },
  {
   "cell_type": "markdown",
   "id": "b8da1a21-24a4-41a6-ab38-eb3f9151c5af",
   "metadata": {},
   "source": [
    "```r\n",
    "library(purrr)\n",
    "\n",
    "map_*(data, function)\n",
    "\n",
    "```"
   ]
  },
  {
   "cell_type": "markdown",
   "id": "2c77b8e1-cf97-432e-a18a-d1cd6ede426e",
   "metadata": {},
   "source": [
    "|  | List | Atomic | Same Type | Nothing | \n",
    "|---|-----|--------|-----------|---------|\n",
    "| One argument | map() | map_lgl() | modify() | walk() | \n",
    "| Two arguments | map2() | map2_lgl() | modify2() | walk2() | \n",
    "| One argument + index | imap() | imap_lgl() | imodify() | iwalk() | \n",
    "| N arguments | pmap() | pmap_lgl() | - | pwalk() | \n",
    "\n",
    "Source: [Advanced R](https://adv-r.hadley.nz/) by Hadley Wickham"
   ]
  },
  {
   "cell_type": "markdown",
   "id": "05a34757-095b-49c8-8e06-45538b569f78",
   "metadata": {},
   "source": [
    "```r\n",
    "lapply()\n",
    "apply()\n",
    "tapply()\n",
    "integrate()\n",
    "optim()\n",
    "\n",
    "```"
   ]
  },
  {
   "cell_type": "markdown",
   "id": "dd8584df-e76c-41a5-9aeb-9c9df1aff364",
   "metadata": {},
   "source": [
    "### Sort"
   ]
  },
  {
   "cell_type": "markdown",
   "id": "04e899b5-3fa3-46c4-880b-ce09a43d60ab",
   "metadata": {},
   "source": [
    "```r\n",
    "# Sort column in ascending order \n",
    "data |> \n",
    "    arrange(col1)\n",
    "\n",
    "# Sort column in descending order\n",
    "data |> \n",
    "    arrange(desc(col1))\n",
    "```"
   ]
  },
  {
   "cell_type": "markdown",
   "id": "ece69f78-26bb-4207-a931-f97a6a4161f5",
   "metadata": {},
   "source": [
    "### Pivoting"
   ]
  },
  {
   "cell_type": "markdown",
   "id": "7c201fff-a739-46b2-9dfa-39efc0fd3572",
   "metadata": {},
   "source": [
    "```r\n",
    "# split values into separate rows\n",
    "data |>\n",
    "    pivot_longer(`col1`:`col2`, names_to = \"new_col1\", values_to = \"new_col2\")\n",
    "\n",
    "# split values into separate columns\n",
    "data |>\n",
    "    pivot_wider(names_from = col1, values_from = col2)\n",
    "```"
   ]
  },
  {
   "cell_type": "markdown",
   "id": "9ee31447-5bb7-4ce3-8c94-cbd5806c7a70",
   "metadata": {},
   "source": [
    "### Dealing with NA"
   ]
  },
  {
   "cell_type": "markdown",
   "id": "de7d4ec5-300b-4471-9078-c1a09e1c6e55",
   "metadata": {},
   "source": [
    "```r\n",
    "# for NA in just selected columns\n",
    "data |> drop_na(col1:col2)\n",
    "\n",
    "# for all affected rows\n",
    "data |> drop_na()\n",
    "```"
   ]
  },
  {
   "cell_type": "markdown",
   "id": "fcdceee2-faac-491a-b916-bbe0c8ef9fb5",
   "metadata": {},
   "source": [
    "### Summarizing data "
   ]
  },
  {
   "cell_type": "markdown",
   "id": "bbf0e064-1a58-41be-b689-833d602bd8df",
   "metadata": {},
   "source": [
    "```r\n",
    "# summaries on all rows \n",
    "data |>\n",
    "    summarise(summary_col1 = func(col1),\n",
    "              summary_col2 = mean(col2),\n",
    "              summary_col3 = sum(col3))\n",
    "\n",
    "# summaries by groups\n",
    "data |>\n",
    "    group_by(group_col) |>\n",
    "    summarise(summary_col = mean(col))\n",
    "\n",
    "# summaries by multiple hierarchies of groups\n",
    "data |>\n",
    "    group_by(group_col) |>\n",
    "    summarise(summary_col = mean(col))\n",
    "\n",
    "# nesting\n",
    "```"
   ]
  },
  {
   "cell_type": "markdown",
   "id": "887a615b-ce0e-4f46-9145-bccfa0623ca8",
   "metadata": {},
   "source": [
    "## Wrangling multiple data frames"
   ]
  },
  {
   "cell_type": "markdown",
   "id": "9dd2f275-e201-4f9e-941d-254a64eff1d7",
   "metadata": {},
   "source": [
    "### Binding (not very safe)"
   ]
  },
  {
   "cell_type": "markdown",
   "id": "e559e383-31e6-4602-846b-123289d093de",
   "metadata": {},
   "source": [
    "```r\n",
    "bind_rows(df1, df2, df3)\n",
    "bind_cols(df1, df2)\n",
    "\n",
    "```"
   ]
  },
  {
   "cell_type": "markdown",
   "id": "f251e672-eb3a-40d1-b22e-7f3706b4a3ac",
   "metadata": {},
   "source": [
    "### Joining"
   ]
  },
  {
   "cell_type": "markdown",
   "id": "4887a66e-f392-4710-9476-6c9c0e0c746e",
   "metadata": {},
   "source": [
    "[joining cheatsheet](https://stat545.com/join-cheatsheet.html)"
   ]
  },
  {
   "cell_type": "markdown",
   "id": "0278d8dd-aedc-4225-979b-d314e9b764fe",
   "metadata": {},
   "source": [
    "| Wanted Data | Column Format | Join Function |\n",
    "| ----------- | ------------- | ------------- |\n",
    "| common values in x & y | combined columns of x & y | `inner_join(x,y)` |\n",
    "| common values in x & y | format of x | `semi_join(x,y)` |\n",
    "| common values in x & y | format of y | `semi_join(y,x)` |\n",
    "| x with additional info from y | modified format of x |`left_join(x,y)` |\n",
    "| y with additional info from x | modified format of y | `left_join(y,x)` |\n",
    "| unique values in x but not in y | format of x | `anti_join(x,y)` |\n",
    "| unique values in y but not in x | format of y | `anti_join(y,x)` |\n",
    "| all values from x & y | all columns from x & y | `full_join(x,y)` |"
   ]
  },
  {
   "cell_type": "markdown",
   "id": "185a3fb4-204a-448d-b5ec-50c6e68b7186",
   "metadata": {},
   "source": [
    "## Documentation"
   ]
  },
  {
   "cell_type": "markdown",
   "id": "6d8a9239-30d5-41f2-a9bb-bc45275357c9",
   "metadata": {},
   "source": [
    "###  R Markdown"
   ]
  },
  {
   "cell_type": "markdown",
   "id": "f061cff8-65ef-43eb-bfd1-822d04a2c0d0",
   "metadata": {},
   "source": [
    "In R Markdown, you can name code chunks and add options. "
   ]
  },
  {
   "cell_type": "markdown",
   "id": "09205cd3-9575-4895-8e44-734e95fb3153",
   "metadata": {},
   "source": [
    "`{r name-of-code-chunk options=TRUE}`"
   ]
  },
  {
   "cell_type": "markdown",
   "id": "61719035-e4ad-4bc1-9b48-5a99eed117fb",
   "metadata": {},
   "source": [
    "Options can be set globally for all chunks at the beginning of document. Local options override the global options."
   ]
  },
  {
   "cell_type": "markdown",
   "id": "6eb96a11-f01a-4f89-aec1-938ba0276c58",
   "metadata": {},
   "source": [
    "``` r\n",
    "# Put this inside the first r code chunk. \n",
    "# Write options in (...), separated with commas.\n",
    "\n",
    "knitr::opts_chunk$set(...)\n",
    "```"
   ]
  },
  {
   "cell_type": "markdown",
   "id": "45f7594d-7ee5-4195-a39f-29a532a8cb67",
   "metadata": {},
   "source": [
    "| Option | Default | Description |\n",
    "|--------|---------|-------------|\n",
    "| <code>eval</code> | TRUE | evaluate code and display results |\n",
    "| <code>echo</code> | TRUE | display code and results; when false, hides code and only shows output |\n",
    "| <code>warning</code> | TRUE | display warnings |\n",
    "| <code>error</code> | FALSE | display errors |\n",
    "| <code>message</code> | TRUE | display messages |\n",
    "| <code>tidy</code> | FALSE | reformat code in tidy way |\n",
    "| <code>cache</code> | FALSE | cache results for future renders |\n",
    "| <code>fig.width</code> | TRUE | set width of plot |\n",
    "| <code>fig.height</code> | TRUE | set height of plot | "
   ]
  },
  {
   "cell_type": "markdown",
   "id": "29668b01-3b2b-47c4-8607-43f85930b46d",
   "metadata": {},
   "source": [
    "More options can be found in [R Markdown Reference Guide](https://www.rstudio.com/wp-content/uploads/2015/03/rmarkdown-reference.pdf)."
   ]
  },
  {
   "cell_type": "markdown",
   "id": "9bd443db-9faa-4860-a17d-16473adf6a5c",
   "metadata": {},
   "source": [
    "\n",
    "- supports inline evaluated code\n",
    "- Supports LaTex math equationsb"
   ]
  },
  {
   "cell_type": "markdown",
   "id": "05b760b1-d1bf-4309-9e16-0552dce9999d",
   "metadata": {},
   "source": [
    "### roxygen2"
   ]
  },
  {
   "cell_type": "markdown",
   "id": "fa7c195b-7285-435f-8ae0-bdbc86bf4ef3",
   "metadata": {},
   "source": [
    "```r\n",
    "#' Description of function\n",
    "#'\n",
    "#' @param x A short description of x\n",
    "#' @param y A short description of y\n",
    "#'\n",
    "#' @return What the function returns\n",
    "#'\n",
    "#' @examples\n",
    "#' f(1, 2)\n",
    "```\n",
    "f <- function(x, y) {\n",
    "    \n",
    "    # content\n",
    "    \n",
    "    return (value)\n",
    "\n",
    "}"
   ]
  },
  {
   "cell_type": "markdown",
   "id": "6e53b2c8-46c6-42c9-b5eb-abbc1a1e4401",
   "metadata": {},
   "source": [
    "### Citing R "
   ]
  },
  {
   "cell_type": "code",
   "execution_count": 1,
   "id": "67dca171-e894-45fc-923f-62d34866b96d",
   "metadata": {},
   "outputs": [
    {
     "data": {
      "text/plain": [
       "\n",
       "To cite R in publications use:\n",
       "\n",
       "  R Core Team (2022). R: A language and environment for statistical\n",
       "  computing. R Foundation for Statistical Computing, Vienna, Austria.\n",
       "  URL https://www.R-project.org/.\n",
       "\n",
       "A BibTeX entry for LaTeX users is\n",
       "\n",
       "  @Manual{,\n",
       "    title = {R: A Language and Environment for Statistical Computing},\n",
       "    author = {{R Core Team}},\n",
       "    organization = {R Foundation for Statistical Computing},\n",
       "    address = {Vienna, Austria},\n",
       "    year = {2022},\n",
       "    url = {https://www.R-project.org/},\n",
       "  }\n",
       "\n",
       "We have invested a lot of time and effort in creating R, please cite it\n",
       "when using it for data analysis. See also ‘citation(\"pkgname\")’ for\n",
       "citing R packages.\n"
      ]
     },
     "metadata": {},
     "output_type": "display_data"
    }
   ],
   "source": [
    "citation()"
   ]
  }
 ],
 "metadata": {
  "kernelspec": {
   "display_name": "R",
   "language": "R",
   "name": "ir"
  },
  "language_info": {
   "codemirror_mode": "r",
   "file_extension": ".r",
   "mimetype": "text/x-r-source",
   "name": "R",
   "pygments_lexer": "r",
   "version": "4.2.1"
  }
 },
 "nbformat": 4,
 "nbformat_minor": 5
}