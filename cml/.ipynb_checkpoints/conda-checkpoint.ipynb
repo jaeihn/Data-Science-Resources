{
 "cells": [
  {
   "cell_type": "markdown",
   "id": "165639e0-c4be-46c2-b611-34f969a0d973",
   "metadata": {},
   "source": [
    "# conda"
   ]
  },
  {
   "cell_type": "markdown",
   "id": "81371fcb-41ae-465f-8ed1-12bb1d929971",
   "metadata": {},
   "source": [
    "<table>\n",
    "    <thead>\n",
    "        <tr>\n",
    "            <th>Command</th>\n",
    "            <th>Description</th>\n",
    "        </tr>\n",
    "    </thead>\n",
    "    <tbody>\n",
    "        <tr>\n",
    "            <td><code>conda info --envs</code></td>\n",
    "            <td>Show list of environments</td>\n",
    "        </tr>\n",
    "        <tr>\n",
    "            <td><code>conda env list</code></td>\n",
    "            <td>Show list of environments</td>\n",
    "        </tr>\n",
    "        <tr>\n",
    "            <td><code>conda create --name {env-name}</code></td>\n",
    "            <td>Create an environment</td>\n",
    "        </tr>\n",
    "        <tr>\n",
    "            <td><code>conda env create -f {environment}.yml</code></td>\n",
    "            <td>Create an environment from .yml file</td>\n",
    "        </tr>\n",
    "        <tr>\n",
    "            <td><code>activate {env-name}</code></td>\n",
    "            <td>For macOS and Linux, <code>activate {env-name}</code></td>\n",
    "        </tr>\n",
    "        <tr>\n",
    "            <td><code>conda remove --name {env-name} --all</code></td>\n",
    "            <td>Remove an environment</td>\n",
    "        </tr>\n",
    "        <tr>\n",
    "            <td><code>conda env remove --name {env-name}</code></td>\n",
    "            <td>Remove an environment</td>\n",
    "        </tr>\n",
    "    </tbody>\n",
    "</table>\n",
    "\n",
    "<ul>\n",
    "    <li><a href=\"https://docs.conda.io/projects/conda/en/latest/user-guide/tasks/manage-environments.html\">Managing Environments</a></li>\n",
    "</ul>\n"
   ]
  },
  {
   "cell_type": "code",
   "execution_count": null,
   "id": "8e5796f9-e6a5-48b4-ab5d-2e40de7b251f",
   "metadata": {},
   "outputs": [],
   "source": []
  }
 ],
 "metadata": {
  "kernelspec": {
   "display_name": "Python 3 (ipykernel)",
   "language": "python",
   "name": "python3"
  },
  "language_info": {
   "codemirror_mode": {
    "name": "ipython",
    "version": 3
   },
   "file_extension": ".py",
   "mimetype": "text/x-python",
   "name": "python",
   "nbconvert_exporter": "python",
   "pygments_lexer": "ipython3",
   "version": "3.10.6"
  }
 },
 "nbformat": 4,
 "nbformat_minor": 5
}
