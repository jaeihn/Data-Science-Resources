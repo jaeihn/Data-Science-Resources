{
 "cells": [
  {
   "cell_type": "markdown",
   "id": "bbf2379d-4192-4e39-a4df-b30aea983fe1",
   "metadata": {},
   "source": [
    "# git"
   ]
  },
  {
   "cell_type": "markdown",
   "id": "6dda9459-e741-4a3a-aa59-e83e69f9c3d6",
   "metadata": {},
   "source": [
    "| Command | Description |\n",
    "|:--------|:------------|\n",
    "| `git pull` | `fetch`+`merge`; Update local repo with remote repo |\n",
    "| `git status` | View staging area | \n",
    "| `git add {filename}` | Add file to staging area |\n",
    "| `git add -u` | Add updates and deletion of files |\n",
    "| `git add .` | Add updates and new files |\n",
    "| `git add -A` | Add everything available to staging area |\n",
    "| `git add -p` | Add with interactive prompt for each file (y/n) | \n",
    "| `git diff --staged` | Compare the changes in the staging area |\n",
    "| `git diff {older_hash} {newer_hash}`| Compare between two commits |\n",
    "| `git diff {older_hash}` | Compare with most recent commit | \n",
    "| `git diff {file1} {file2}` | Compare two files in general | \n",
    "| `git restore --staged {filename}` | Unstage file |\n",
    "| `git rm. --cached {file}` | Untrack a file |\n",
    "| `git reset` | Unstage all files (default = --mixed) |\n",
    "| `git stash` | Temporarily removes local changes from the working area |\n",
    "| `git stash pop` | Retrieve the changes that were stowed away |\n",
    "| `git commit -m \"{message}\"` | Commit current staging area with message |\n",
    "| `git commit --amend -m \"{message}\"` | Rewrite most recent unpushed commit message | \n",
    "| `git log` | View commit history | \n",
    "| `git log --oneline` | View commit history (minimal) | \n",
    "| `git log --graph --all --oneline` | Draw tree graph of commit history | \n",
    "| `git switch -c {branch}` | Create and switch to branch | \n",
    "| `git revert` | Create a new commit that reverts previous commits | \n",
    "| `git reset --soft {hash}` | Uncommit, changes are left staged |\n",
    "| `git reset --mixed {hash}` | Uncommit + unstage, changes are in working tree |\n",
    "| `git reset --hard {hash}` | Uncommit + unstage + delete, nothing left | \n",
    "| `git reset {hash}` | Move forward to undo a `--hard` reset based on `reflog`; NOT GUARANTEED |\n",
    "| `git push -f origin` | Force reset commit to remote repo (deletes any commit history in between) |"
   ]
  },
  {
   "cell_type": "markdown",
   "id": "7c8b67dd-78b7-479d-b8b1-717f1ae2f045",
   "metadata": {},
   "source": [
    "### `.gitignore`\n",
    "\n",
    "Place in root directory of the repo, or set globally for all `.git` repos. \n",
    "\n",
    "#### Common `.gitignore_global` template\n",
    "\n",
    "```{bash}\n",
    "**/.DS_Store\n",
    "**/.ipynb_checkpoints\n",
    "**/.Rhistory\n",
    "**/__pycache__\n",
    "**/.OTTER_LOG\n",
    "```"
   ]
  },
  {
   "cell_type": "markdown",
   "id": "343be313-a6fc-4f25-90ab-c8d2e8f93dad",
   "metadata": {},
   "source": [
    "## Q&A\n",
    "\n",
    "- [Staging deleted files](https://stackoverflow.com/questions/12373733/staging-deleted-files)\n",
    "- [How to write a commit message and description (the proper way)](https://medium.com/@steveamaza/how-to-write-a-proper-git-commit-message-e028865e5791)"
   ]
  }
 ],
 "metadata": {
  "kernelspec": {
   "display_name": "Python 3 (ipykernel)",
   "language": "python",
   "name": "python3"
  },
  "language_info": {
   "codemirror_mode": {
    "name": "ipython",
    "version": 3
   },
   "file_extension": ".py",
   "mimetype": "text/x-python",
   "name": "python",
   "nbconvert_exporter": "python",
   "pygments_lexer": "ipython3",
   "version": "3.10.6"
  }
 },
 "nbformat": 4,
 "nbformat_minor": 5
}
