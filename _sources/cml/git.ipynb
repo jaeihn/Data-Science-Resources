{
 "cells": [
  {
   "cell_type": "markdown",
   "id": "bbf2379d-4192-4e39-a4df-b30aea983fe1",
   "metadata": {},
   "source": [
    "# git"
   ]
  },
  {
   "cell_type": "markdown",
   "id": "6dda9459-e741-4a3a-aa59-e83e69f9c3d6",
   "metadata": {},
   "source": [
    "| Command | Description |\n",
    "|:--------|:------------|\n",
    "| `git pull` | Update local repo with remote repo |\n",
    "| `git status` | View staging area | \n",
    "| `git add {filename}` | Add file to staging area |\n",
    "| `git add -u` | Add updates and deletion of files |\n",
    "| `git add .` | Add updates and new files |\n",
    "| `git add -A` | Add everything available to staging area |\n",
    "| `git add -p` | Add with interactive prompt for each file (y/n) | \n",
    "| `git diff --staged` | Compare the changes in the staging area |\n",
    "| `git restore --staged {filename}` | Unstage file |\n",
    "| `git reset` | Unstage all files |\n",
    "| `git commit -m \"{message}\"` | Commit current staging area with message |\n",
    "| `git commit --amend -m \"{message}\"` | Rewrite most recent unpushed commit message | \n",
    "| `git log` | View commit history | \n",
    "| `git log --oneline` | View commit history (minimal) | \n",
    "| `git log --graph --all --oneline` | Draw tree graph of commit history | \n",
    "| `git switch -c {branch}` | Create and switch to branch | \n",
    "| `git reset --hard {hash}` | Reset HEAD to previous commit | \n",
    "| `git push -f origin` | Force reset commit to remote repo (deletes any commit history in between) |"
   ]
  },
  {
   "cell_type": "markdown",
   "id": "11658625-08f5-4872-bed2-98ae1430e983",
   "metadata": {},
   "source": [
    "### How to write a commit message and description (the proper way)\n",
    "https://medium.com/@steveamaza/how-to-write-a-proper-git-commit-message-e028865e5791\n"
   ]
  },
  {
   "cell_type": "markdown",
   "id": "a15ed81f-64f8-408f-bbeb-6fa3f5c9d342",
   "metadata": {},
   "source": [
    "### Staging deleted files\n",
    "https://stackoverflow.com/questions/12373733/staging-deleted-files\n",
    "\n",
    "\n",
    "### .gitignore\n",
    "https://www.atlassian.com/git/tutorials/saving-changes/gitignore    "
   ]
  }
 ],
 "metadata": {
  "kernelspec": {
   "display_name": "Python 3 (ipykernel)",
   "language": "python",
   "name": "python3"
  },
  "language_info": {
   "codemirror_mode": {
    "name": "ipython",
    "version": 3
   },
   "file_extension": ".py",
   "mimetype": "text/x-python",
   "name": "python",
   "nbconvert_exporter": "python",
   "pygments_lexer": "ipython3",
   "version": "3.10.6"
  }
 },
 "nbformat": 4,
 "nbformat_minor": 5
}
