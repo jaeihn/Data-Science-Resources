{
 "cells": [
  {
   "cell_type": "markdown",
   "id": "165639e0-c4be-46c2-b611-34f969a0d973",
   "metadata": {},
   "source": [
    "# Environments"
   ]
  },
  {
   "cell_type": "markdown",
   "id": "81371fcb-41ae-465f-8ed1-12bb1d929971",
   "metadata": {},
   "source": [
    "## conda\n",
    "\n",
    "| Command | Description |\n",
    "|:--------|:------------|\n",
    "| `conda update conda` | Update `conda` to latest version |\n",
    "| `conda search {pkg-name}` | Find information regarding package |\n",
    "| `conda install -c conda-forge {pkg-name}={ver}` | Install package through `conda-forge` | \n",
    "| `conda config --add channels conda-forge` | Make `conda-forge` the default channel | \n",
    "| `conda remove -n {env-name} {pkg-name}` | Remove package and dependencies | \n",
    "| `conda info --envs` | Show list of environments |\n",
    "| `conda env list` | Show list of environments |\n",
    "| `conda create -n {env-name}` | Create an environment |\n",
    "| `conda create -n {env-name} -c conda-forge python=3.9 jupyterlab pandas=1.5.0` | e.g. Creating by specifying channel and packages |\n",
    "| `conda env create -f {environment}.yml` | Create an environment from .yml file |\n",
    "| conda create -n {cp-env} --clone {org-env} | Copy an environment |\n",
    "| `conda activate {env-name}` | For macOS and Linux, `activate {env-name}` |\n",
    "| `conda list` | List all packages in environment |\n",
    "| `conda deactivate` | Deactivate environment | \n",
    "| `conda {env-name} export -f {env-name}.yaml` | Export environment as .yaml file |\n",
    "| `conda {env-name} export -f {env-name}.yaml --from-history`| Export across different OS; must manually add version of packages |\n",
    "| `conda remove -n {env-name} --all` | Remove an environment |\n",
    "| `conda env remove -n {env-name}` | Remove an environment | "
   ]
  },
  {
   "cell_type": "markdown",
   "id": "c62491e2-a32a-4c96-8d3d-193c6a09aadf",
   "metadata": {},
   "source": [
    "## renv\n",
    "\n",
    "| Command | Description |\n",
    "|:--------|:------------|\n",
    "| `renv::install.packages()` | Install packages |\n",
    "| `renv::remove.packages()` | Remove packages | \n",
    "| `renv::init()` | Create a new environment |\n",
    "| `renv::snapshot()` | Save and export environment to `renv.lock` |"
   ]
  },
  {
   "cell_type": "markdown",
   "id": "ab0ac85b-ca8d-4fc9-bb14-03202ac61ddd",
   "metadata": {},
   "source": [
    "## JupyterLab with Different Environments\n",
    "\n",
    "- Install `nb_conda_kernels` package in environment containing JupyterLab (e.g. `base`) \n",
    "- (Python) Install `ipykernel` package in new environment\n",
    "- (R) Install `r-irkernel` package in new environment"
   ]
  },
  {
   "cell_type": "markdown",
   "id": "28e84476-4d96-4514-be8e-f1a8d3ebd758",
   "metadata": {},
   "source": [
    "## Common Questions\n",
    "\n",
    "- [`conda` Documentation](https://docs.conda.io/en/latest/)\n",
    "- [`renv` Documentation](https://rstudio.github.io/renv/articles/renv.html)\n",
    "- [Managing Environments](https://docs.conda.io/projects/conda/en/latest/user-guide/tasks/manage-environments.html)"
   ]
  }
 ],
 "metadata": {
  "kernelspec": {
   "display_name": "Python 3 (ipykernel)",
   "language": "python",
   "name": "python3"
  },
  "language_info": {
   "codemirror_mode": {
    "name": "ipython",
    "version": 3
   },
   "file_extension": ".py",
   "mimetype": "text/x-python",
   "name": "python",
   "nbconvert_exporter": "python",
   "pygments_lexer": "ipython3",
   "version": "3.10.6"
  }
 },
 "nbformat": 4,
 "nbformat_minor": 5
}
