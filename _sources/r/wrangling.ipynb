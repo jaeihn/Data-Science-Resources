{
 "cells": [
  {
   "cell_type": "markdown",
   "id": "54242100-54c1-4cdb-acd5-01dd52d7948d",
   "metadata": {},
   "source": [
    "# R: Data Wrangling"
   ]
  },
  {
   "cell_type": "markdown",
   "id": "f87d4323-fdd3-48e5-8c0b-ecab317ec623",
   "metadata": {
    "tags": []
   },
   "source": [
    "## Wrangling single data frame"
   ]
  },
  {
   "cell_type": "markdown",
   "id": "8551ef46-6555-43d7-9289-d7ff876cd601",
   "metadata": {
    "tags": []
   },
   "source": [
    "### Cleaning column names\n",
    "\n",
    "```r\n",
    "# Manually renaming column by column\n",
    "data <- rename(data, col1 = `Column One`,\n",
    "                     col2 = `Column Two`,\n",
    "                     col3 = `Column Three`)\n",
    "\n",
    "# Using `janitor` package\n",
    "library(janitor)\n",
    "\n",
    "data <- clean_names(data)\n",
    "```"
   ]
  },
  {
   "cell_type": "markdown",
   "id": "1ff01606-00f0-45fc-9277-cd53684468e7",
   "metadata": {},
   "source": [
    "### Subsetting data frame\n",
    "\n",
    "```r\n",
    "# COLUMNS \n",
    "\n",
    "# can be used to reorder columns\n",
    "select(data, col1, col2, col3)\n",
    "\n",
    "# subset a range of columns\n",
    "select(data, col1:col3)\n",
    "\n",
    "# select all\n",
    "data |> \n",
    "    select() |>\n",
    "    everything()\n",
    "\n",
    "# extract column as vector\n",
    "data |>\n",
    "    pull(col1)\n",
    "\n",
    "# ROWS\n",
    "\n",
    "# subset rows based on condition\n",
    "filter(data, col1 < 10)\n",
    "\n",
    "# multiple conditions (AND)\n",
    "filter(data, col1 == 10, col2 > 50)\n",
    "\n",
    "# one of multiple conditions (OR)\n",
    "filter(data, col1 ==10 | col2 > 50)\n",
    "\n",
    "# if one of the cases\n",
    "filter(data, col1 %in% c(\"case1\", \"case2\", \"case3\"))\n",
    "\n",
    "\n",
    "# select rows by index\n",
    "data |> \n",
    "    slice(1:10)\n",
    "\n",
    "```\n",
    "\n",
    "```r\n",
    "# for rows and columns simultaneously\n",
    "```\n",
    "\n",
    "| Operator | Example | Description |\n",
    "|----------|---------|-------------|\n",
    "| \\[ | `data[1:10, ]` | rows 1-10, all columns |\n",
    "| \\[ | `data[1:10]` | columns 1-10 | \n",
    "| \\[\\[ | `data[[1]]` | column 1 as vector\n",
    "| \\$ | `data$col` | column as vector | \n",
    "\n",
    "```r\n",
    "# logical indexing\n",
    "# select rows that meet conditions, for all columns\n",
    "data[data$col1 == 5, ]\n",
    "```"
   ]
  },
  {
   "cell_type": "markdown",
   "id": "521e555d-81f7-4a18-b181-f7efd2b9390a",
   "metadata": {},
   "source": [
    "### Add new variables / columns\n",
    "\n",
    "```r\n",
    "# by assignment\n",
    "data$col1 <- data$col2 + 10 \n",
    "\n",
    "# by mutation\n",
    "# multiple columns can be mutated at a time\n",
    "data |> \n",
    "    mutate(new_col1 = col1 * col2,\n",
    "           new_col2 = col1 + col2)\n",
    "\n",
    "# changing column in place\n",
    "data |> \n",
    "    mutate(col1 = round(col1, 0))\n",
    "```"
   ]
  },
  {
   "cell_type": "markdown",
   "id": "cf3912ba-4c90-4d76-bf8c-a3aeb8dbd736",
   "metadata": {
    "tags": []
   },
   "source": [
    "### Selective changes to values\n",
    "\n",
    "If you're matching strings, make sure to convert any factor columns into character vectors.\n",
    "\n",
    "```r\n",
    "data |>\n",
    "    mutate(col = case_when(col == \"case1\" ~ \"replacement1\",\n",
    "                           col == \"case2\" ~ \"replacement2\",\n",
    "                           TRUE ~ col) # keep all other cases as is \n",
    "```"
   ]
  },
  {
   "cell_type": "markdown",
   "id": "b1b8f909-3d1c-4f78-bcd5-03fd0693d361",
   "metadata": {},
   "source": [
    "### Mapping\n",
    "\n",
    "```r\n",
    "library(purrr)\n",
    "\n",
    "map_*(data, function)\n",
    "\n",
    "```\n",
    "\n",
    "|  | List | Atomic | Same Type | Nothing | \n",
    "|---|-----|--------|-----------|---------|\n",
    "| One argument | map() | map_lgl() | modify() | walk() | \n",
    "| Two arguments | map2() | map2_lgl() | modify2() | walk2() | \n",
    "| One argument + index | imap() | imap_lgl() | imodify() | iwalk() | \n",
    "| N arguments | pmap() | pmap_lgl() | - | pwalk() | \n",
    "\n",
    "Source: [Advanced R](https://adv-r.hadley.nz/) by Hadley Wickham\n",
    "\n",
    "```r\n",
    "lapply()\n",
    "apply()\n",
    "tapply()\n",
    "integrate()\n",
    "optim()\n",
    "\n",
    "```"
   ]
  },
  {
   "cell_type": "markdown",
   "id": "f717277c-9f3e-4508-9567-0502fc1ed6ce",
   "metadata": {},
   "source": [
    "### Sort\n",
    "\n",
    "```r\n",
    "# Sort column in ascending order \n",
    "data |> \n",
    "    arrange(col1)\n",
    "\n",
    "# Sort column in descending order\n",
    "data |> \n",
    "    arrange(desc(col1))\n",
    "```"
   ]
  },
  {
   "cell_type": "markdown",
   "id": "c6de3332-c9f9-4880-87c3-d1c7b26bb80c",
   "metadata": {},
   "source": [
    "### Pivoting\n",
    "\n",
    "```r\n",
    "# split values into separate rows\n",
    "data |>\n",
    "    pivot_longer(`col1`:`col2`, names_to = \"new_col1\", values_to = \"new_col2\")\n",
    "\n",
    "# split values into separate columns\n",
    "data |>\n",
    "    pivot_wider(names_from = col1, values_from = col2)\n",
    "```"
   ]
  },
  {
   "cell_type": "markdown",
   "id": "b3045b06-1dfb-4df3-aed5-8188f4d0b4a0",
   "metadata": {},
   "source": [
    "### Dealing with NA\n",
    "\n",
    "```r\n",
    "# for NA in just selected columns\n",
    "data |> drop_na(col1:col2)\n",
    "\n",
    "# for all affected rows\n",
    "data |> drop_na()\n",
    "```"
   ]
  },
  {
   "cell_type": "markdown",
   "id": "9d868bad-99a2-4cc0-9005-87cb94251ea3",
   "metadata": {},
   "source": [
    "### Summarizing data \n",
    "\n",
    "```r\n",
    "# summaries on all rows \n",
    "data |>\n",
    "    summarise(summary_col1 = func(col1),\n",
    "              summary_col2 = mean(col2),\n",
    "              summary_col3 = sum(col3))\n",
    "\n",
    "# summaries by groups\n",
    "data |>\n",
    "    group_by(group_col) |>\n",
    "    summarise(summary_col = mean(col))\n",
    "\n",
    "# summaries by multiple hierarchies of groups\n",
    "data |>\n",
    "    group_by(group_col) |>\n",
    "    summarise(summary_col = mean(col))\n",
    "\n",
    "# nesting\n",
    "```"
   ]
  },
  {
   "cell_type": "markdown",
   "id": "531895bd-2da1-4bf8-a84d-a28a359009af",
   "metadata": {
    "tags": []
   },
   "source": [
    "## Wrangling multiple data frames"
   ]
  },
  {
   "cell_type": "markdown",
   "id": "061ee996-6257-4d8a-b69a-c8830bce11e7",
   "metadata": {},
   "source": [
    "### Binding (not very safe)\n",
    "\n",
    "```r\n",
    "bind_rows(df1, df2, df3)\n",
    "bind_cols(df1, df2)\n",
    "\n",
    "```"
   ]
  },
  {
   "cell_type": "markdown",
   "id": "5169c4ab-df0f-4305-bdfd-457764b29b08",
   "metadata": {},
   "source": [
    "### Joining\n",
    "\n",
    "[joining cheatsheet](https://stat545.com/join-cheatsheet.html)\n",
    "\n",
    "| Wanted Data | Column Format | Join Function |\n",
    "| ----------- | ------------- | ------------- |\n",
    "| common values in x & y | combined columns of x & y | `inner_join(x,y)` |\n",
    "| common values in x & y | format of x | `semi_join(x,y)` |\n",
    "| common values in x & y | format of y | `semi_join(y,x)` |\n",
    "| x with additional info from y | modified format of x |`left_join(x,y)` |\n",
    "| y with additional info from x | modified format of y | `left_join(y,x)` |\n",
    "| unique values in x but not in y | format of x | `anti_join(x,y)` |\n",
    "| unique values in y but not in x | format of y | `anti_join(y,x)` |\n",
    "| all values from x & y | all columns from x & y | `full_join(x,y)` |"
   ]
  }
 ],
 "metadata": {
  "kernelspec": {
   "display_name": "Python 3 (ipykernel)",
   "language": "python",
   "name": "python3"
  },
  "language_info": {
   "codemirror_mode": {
    "name": "ipython",
    "version": 3
   },
   "file_extension": ".py",
   "mimetype": "text/x-python",
   "name": "python",
   "nbconvert_exporter": "python",
   "pygments_lexer": "ipython3",
   "version": "3.10.6"
  }
 },
 "nbformat": 4,
 "nbformat_minor": 5
}
