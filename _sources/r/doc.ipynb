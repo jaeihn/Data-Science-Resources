{
 "cells": [
  {
   "cell_type": "markdown",
   "id": "02b020ba-3b27-49b9-9165-08920da452e6",
   "metadata": {},
   "source": [
    "# Documentation"
   ]
  },
  {
   "cell_type": "markdown",
   "id": "6bd33a6b-e281-484d-9fda-09821fad46bc",
   "metadata": {},
   "source": [
    "## roxygen2\n",
    "\n",
    "```r\n",
    "#' Description of function\n",
    "#'\n",
    "#' @param x A short description of x\n",
    "#' @param y A short description of y\n",
    "#'\n",
    "#' @return What the function returns\n",
    "#'\n",
    "#' @examples\n",
    "#' f(1, 2)\n",
    "```\n",
    "f <- function(x, y) {\n",
    "    \n",
    "    # content\n",
    "    \n",
    "    return (value)\n",
    "\n",
    "}"
   ]
  },
  {
   "cell_type": "markdown",
   "id": "4c49936d-00c3-4a1c-b9c2-12ee444829df",
   "metadata": {},
   "source": [
    "##  R Markdown\n",
    "\n",
    "In R Markdown, you can name code chunks and add options. \n",
    "\n",
    "`{r name-of-code-chunk options=TRUE}`\n",
    "\n",
    "Options can be set globally for all chunks at the beginning of document. Local options override the global options.\n",
    "\n",
    "``` r\n",
    "# Put this inside the first r code chunk. \n",
    "# Write options in (...), separated with commas.\n",
    "\n",
    "knitr::opts_chunk$set(...)\n",
    "```\n",
    "\n",
    "| Option | Default | Description |\n",
    "|--------|---------|-------------|\n",
    "| <code>eval</code> | TRUE | evaluate code and display results |\n",
    "| <code>echo</code> | TRUE | display code and results; when false, hides code and only shows output |\n",
    "| <code>warning</code> | TRUE | display warnings |\n",
    "| <code>error</code> | FALSE | display errors |\n",
    "| <code>message</code> | TRUE | display messages |\n",
    "| <code>tidy</code> | \"markup\" | reformat code in tidy way |\n",
    "| <code>cache</code> | FALSE | cache results for future renders |\n",
    "| <code>fig.width</code> | 7 | set width of plot |\n",
    "| <code>fig.height</code> | 7 | set height of plot | \n",
    "\n",
    "More options can be found in [R Markdown Reference Guide](https://www.rstudio.com/wp-content/uploads/2015/03/rmarkdown-reference.pdf).\n",
    "\n",
    "\n",
    "- supports inline evaluated code\n",
    "- Supports LaTex math equationsb"
   ]
  },
  {
   "cell_type": "markdown",
   "id": "9107cbe6-e960-45e6-a838-c97da8a166e6",
   "metadata": {},
   "source": [
    "## Citing R "
   ]
  },
  {
   "cell_type": "code",
   "execution_count": 1,
   "id": "134e10c8-bcad-46a3-a6b0-51aa580c82a2",
   "metadata": {},
   "outputs": [
    {
     "data": {
      "text/plain": [
       "\n",
       "To cite R in publications use:\n",
       "\n",
       "  R Core Team (2022). R: A language and environment for statistical\n",
       "  computing. R Foundation for Statistical Computing, Vienna, Austria.\n",
       "  URL https://www.R-project.org/.\n",
       "\n",
       "A BibTeX entry for LaTeX users is\n",
       "\n",
       "  @Manual{,\n",
       "    title = {R: A Language and Environment for Statistical Computing},\n",
       "    author = {{R Core Team}},\n",
       "    organization = {R Foundation for Statistical Computing},\n",
       "    address = {Vienna, Austria},\n",
       "    year = {2022},\n",
       "    url = {https://www.R-project.org/},\n",
       "  }\n",
       "\n",
       "We have invested a lot of time and effort in creating R, please cite it\n",
       "when using it for data analysis. See also ‘citation(\"pkgname\")’ for\n",
       "citing R packages.\n"
      ]
     },
     "metadata": {},
     "output_type": "display_data"
    }
   ],
   "source": [
    "citation()"
   ]
  },
  {
   "cell_type": "markdown",
   "id": "be321e69-f893-4e8e-ac17-595467b3326a",
   "metadata": {},
   "source": [
    "## Additional Resources \n",
    "\n",
    "- [Making Custom Document Templates](https://bookdown.org/yihui/rmarkdown/document-templates.html)\n",
    "- [R Markdown: The Definitive Guide](https://bookdown.org/yihui/rmarkdown/)\n",
    "- [Trans-language Quarto Documents](https://quarto.org/docs/tools/text-editors.html)\n",
    "- [R Markdown Presentations using revealjs](https://bookdown.org/yihui/rmarkdown/revealjs.html)\n",
    "- [xaringan Presentations](https://slides.yihui.org/xaringan/#1)\n",
    "- [Quarto Slides Demo](https://quarto.org/docs/presentations/revealjs/demo/#/title-slide)"
   ]
  }
 ],
 "metadata": {
  "kernelspec": {
   "display_name": "R",
   "language": "R",
   "name": "ir"
  },
  "language_info": {
   "codemirror_mode": "r",
   "file_extension": ".r",
   "mimetype": "text/x-r-source",
   "name": "R",
   "pygments_lexer": "r",
   "version": "4.2.1"
  }
 },
 "nbformat": 4,
 "nbformat_minor": 5
}
