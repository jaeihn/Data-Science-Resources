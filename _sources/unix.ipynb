{
 "cells": [
  {
   "cell_type": "markdown",
   "id": "20171cf0-ded2-4d1e-b820-33978cd2240e",
   "metadata": {},
   "source": [
    "# Unix"
   ]
  },
  {
   "attachments": {},
   "cell_type": "markdown",
   "id": "4e930b3f-475d-4800-ac57-8ada78e9cca0",
   "metadata": {},
   "source": [
    "| Command | Description |\n",
    "|:--------|:------------|\n",
    "| `man <cmd>` | Show manual for `cmd` | \n",
    "| `history` | Print history of commands | \n",
    "| `history \\| grep \"cmd\"` | Search history for `cmd` | \n",
    "| `whoami` | Print username | \n",
    "| `pwd` | Print working directory | \n",
    "| `ls` | List directory |\n",
    "| `ls -F` | List files, with extensions | \n",
    "| `cd` | Change directory |\n",
    "| `mv` | Move directory, rename file | \n",
    "| `mv -v` | Move file, verbose |\n",
    "| `mv -i` | Move file, interactive (confirmation) |  \n",
    "| `cp` | Copy file |\n",
    "| `cp -r` | Copy directory, recursively | \n",
    "| `mkdir` | Make a directory |\n",
    "| `rm` | Remove a file |\n",
    "| `head <file>` | Show first 5 lines of file | \n",
    "| `head -n 10 <file>` | Show first 10 lines of file | \n",
    "| `tail <file>` | Show last 5 lines of file | \n",
    "| `grep` | Search for text in files | \n",
    "| <cmd1> \\| <cmd2> | Pipe result of `cmd1` into `cmd2` | \n",
    "| `alias X = \"command\"` | Save alias of command as X; save it to ` ~/.bash_profile` or `~/.bashrc` | \n",
    "\n"
   ]
  }
 ],
 "metadata": {
  "kernelspec": {
   "display_name": "base",
   "language": "python",
   "name": "python3"
  },
  "language_info": {
   "codemirror_mode": {
    "name": "ipython",
    "version": 3
   },
   "file_extension": ".py",
   "mimetype": "text/x-python",
   "name": "python",
   "nbconvert_exporter": "python",
   "pygments_lexer": "ipython3",
   "version": "3.10.6 | packaged by conda-forge | (main, Aug 22 2022, 20:38:29) [Clang 13.0.1 ]"
  },
  "vscode": {
   "interpreter": {
    "hash": "ff93b10f155d904d247a0fa80f1d806de2a3705055f65eaa939ab52c27d26e2b"
   }
  }
 },
 "nbformat": 4,
 "nbformat_minor": 5
}
