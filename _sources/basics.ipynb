{
 "cells": [
  {
   "cell_type": "markdown",
   "id": "bfc6d176-31df-4cb1-83f1-cbb1774de167",
   "metadata": {},
   "source": [
    "## Data Science Software stack\n",
    "\n",
    "<table>\n",
    "    <thead>\n",
    "        <tr>\n",
    "            <th align=\"center\">bash</th>\n",
    "            <th align=\"center\">git & GitHub Note</th>\n",
    "            <th align=\"center\">Python & R</th>\n",
    "            <th align=\"center\">IDE</th>\n",
    "        </tr>\n",
    "    </thead>\n",
    "    <tbody>\n",
    "    \t<tr>\n",
    "    \t\t<td>\n",
    "    \t\t\t<ul>\n",
    "\t    \t\t\t<li>Navigate filesystem</li>\n",
    "\t    \t\t\t<li>Launch programs</li>\n",
    "\t    \t\t\t<li>Automation</li>\n",
    "    \t\t\t</ul>\n",
    "    \t\t</td>\n",
    "    \t\t<td>\n",
    "    \t\t\t<ul>\n",
    "\t    \t\t\t<li>Version control</li>\n",
    "\t    \t\t\t<li>Collaboration</li>\n",
    "    \t\t\t</ul>\n",
    "    \t\t</td>\n",
    "    \t\t<td>\n",
    "    \t\t\t<ul>\n",
    "\t    \t\t\t<li>Data Analysis</li>\n",
    "\t    \t\t\t<li>Visualization</li>\n",
    "\t    \t\t\t<li>Statistics</li>\n",
    "\t    \t\t\t<li>Machine Learning</li>\n",
    "    \t\t\t</ul>\n",
    "    \t\t</td>\n",
    "    \t\t<td>\n",
    "    \t\t\t<ul>\n",
    "\t    \t\t\t<li>Edit files</li>\n",
    "\t    \t\t\t<li>Develop interactive notebooks</li>\n",
    "\t    \t\t\t<li>Generate reports</li>\n",
    "    \t\t\t</ul>\n",
    "    \t\t</td>\n",
    "    \t</tr>\n",
    "    </tbody>\n",
    "</table>\n"
   ]
  },
  {
   "cell_type": "markdown",
   "id": "63e82fcd-b3c6-4ef7-b1ad-68ae9c08e1d5",
   "metadata": {},
   "source": [
    "## Project Structure\n",
    "\n",
    "<code>\n",
    "project/          \n",
    "├── data/              *.csv        \n",
    "│   ├── processed/\n",
    "│   └── raw/     \n",
    "├── reports/           *.ipynb *.Rmd\n",
    "├── src/               *.py *.R\n",
    "├── doc/               *.md\n",
    "├── README.md\n",
    "└── environment.yaml (or renv.lock)\n",
    "</code>"
   ]
  },
  {
   "cell_type": "markdown",
   "id": "fedfaff6-0ecd-4e7c-a7c2-876fbdf95cb5",
   "metadata": {},
   "source": [
    "## Minimum Reproducible Example\n",
    "\n",
    "* https://www.r-bloggers.com/2011/01/three-tips-for-posting-good-questions-to-r-help-and-stack-overflow/\n",
    "* https://stackoverflow.com/help/minimal-reproducible-example\n",
    "* https://stackoverflow.com/help/how-to-ask\n",
    "* https://reprex.tidyverse.org/"
   ]
  },
  {
   "cell_type": "markdown",
   "id": "f90b6ebf-ebfe-4a04-bb6e-efd2c6336b41",
   "metadata": {},
   "source": [
    "## Good Practices \n",
    "\n",
    "* https://swcarpentry.github.io/good-enough-practices-in-scientific-computing/"
   ]
  },
  {
   "cell_type": "markdown",
   "id": "e78762db-0e96-4430-b55b-b38f4a6e54ef",
   "metadata": {},
   "source": [
    "## Nuggets\n",
    "\n",
    "* bash = prompt = command line = terminal = unix\n",
    "* wildcards = * = globbing"
   ]
  },
  {
   "cell_type": "code",
   "execution_count": null,
   "id": "70ce0f37-7a33-4cdb-a9b8-e35b95bbabe0",
   "metadata": {},
   "outputs": [],
   "source": []
  }
 ],
 "metadata": {
  "kernelspec": {
   "display_name": "Python 3 (ipykernel)",
   "language": "python",
   "name": "python3"
  },
  "language_info": {
   "codemirror_mode": {
    "name": "ipython",
    "version": 3
   },
   "file_extension": ".py",
   "mimetype": "text/x-python",
   "name": "python",
   "nbconvert_exporter": "python",
   "pygments_lexer": "ipython3",
   "version": "3.10.6"
  }
 },
 "nbformat": 4,
 "nbformat_minor": 5
}
