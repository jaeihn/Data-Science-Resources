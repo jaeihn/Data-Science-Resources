{
 "cells": [
  {
   "cell_type": "markdown",
   "id": "4c346925-603a-4239-b8f8-f174eea18d4a",
   "metadata": {},
   "source": [
    "# Functions"
   ]
  },
  {
   "cell_type": "markdown",
   "id": "293510d5-3b87-4187-9a62-028d122f69c3",
   "metadata": {},
   "source": [
    "### Basic Functions"
   ]
  },
  {
   "cell_type": "markdown",
   "id": "50d055f1-ce29-4e8b-a042-59cff4bc514b",
   "metadata": {},
   "source": [
    "```python\n",
    "# make a sequence of numbers\n",
    "range()\n",
    "\n",
    "# pair two iterables together \n",
    "zip()\n",
    "\n",
    "# number each element with an index\n",
    "enumerate()\n",
    "\n",
    "# check for type\n",
    "isinstance(object, type)\n",
    "\n",
    "# when comparing float, to avoid rounding errors\n",
    "math.isclose()\n",
    "np.isclose() \n",
    "\n",
    "# execute shell commands by appending !\n",
    "!flake8 file.py\n",
    "\n",
    "copy()\n",
    "deepcopy()\n",
    "```"
   ]
  },
  {
   "cell_type": "markdown",
   "id": "cc532497-a65d-4b1c-a166-9d3e2ecfd507",
   "metadata": {},
   "source": [
    "### `list` methods"
   ]
  },
  {
   "cell_type": "markdown",
   "id": "66cd8142-befe-4027-b41f-2b2dd97e3c77",
   "metadata": {},
   "source": [
    "```python\n",
    "# print all list methods\n",
    "dir(list)\n",
    "\n",
    "# list filled with repeated values\n",
    "l = ['a', 'b', 'c'] * 100\n",
    "```"
   ]
  },
  {
   "cell_type": "markdown",
   "id": "79ccf01f-c15f-4999-b80f-402bf9705e88",
   "metadata": {},
   "source": [
    "### `string` methods"
   ]
  },
  {
   "cell_type": "markdown",
   "id": "87b9a0b2-e98d-43ce-acf1-500305ada178",
   "metadata": {},
   "source": [
    "```python\n",
    "# formatted string \n",
    "print(f\"Value of {pi} is {pi:0.8f}\")\n",
    "```"
   ]
  },
  {
   "cell_type": "markdown",
   "id": "511cb6b8-0e3e-4dc1-a7e0-672a626b7867",
   "metadata": {},
   "source": [
    "### `dict` methods"
   ]
  },
  {
   "cell_type": "markdown",
   "id": "4a9ab623-1d97-4dea-911a-cf81692c9a27",
   "metadata": {},
   "source": [
    "```python\n",
    "# iterating through dict\n",
    "for k, v in dict.items():\n",
    "    ...\n",
    "\n",
    "# delete items\n",
    "dict.pop('key')\n",
    "del dict['key']\n",
    "\n",
    "# catch invalid key with custom message\n",
    "dict.get('key', 'message for invalid key')\n",
    "```"
   ]
  },
  {
   "cell_type": "markdown",
   "id": "3343c536-d385-4be6-8dda-7e8262862042",
   "metadata": {
    "tags": []
   },
   "source": [
    "### NumPy"
   ]
  },
  {
   "cell_type": "markdown",
   "id": "a6b4c764-fab4-4581-bdd6-0d18d6634356",
   "metadata": {},
   "source": [
    "| Function | Description |\n",
    "|----------|-------------|\n",
    "np.arange()| sequence ranging from a to b \n",
    "np.linspace() | linearly spaced sequence\n",
    "np.ones() | fill dimension with ones\n",
    "np.zeros | fill dimension with zeros\n",
    "np.full | fill dimension with custom values\n",
    "np.random.rand() | fill with random values\n",
    "np.transpose() | transpose the array\n",
    "np.T | transpose the array \n",
    "np.mean() \n",
    "np.astype(int)\n",
    "np.shape | row, column (or more)\n",
    "np.reshape()\n",
    "np.newaxis\n",
    "np.ravel()\n",
    "np.flatten()"
   ]
  }
 ],
 "metadata": {
  "kernelspec": {
   "display_name": "Python 3 (ipykernel)",
   "language": "python",
   "name": "python3"
  },
  "language_info": {
   "codemirror_mode": {
    "name": "ipython",
    "version": 3
   },
   "file_extension": ".py",
   "mimetype": "text/x-python",
   "name": "python",
   "nbconvert_exporter": "python",
   "pygments_lexer": "ipython3",
   "version": "3.10.6"
  }
 },
 "nbformat": 4,
 "nbformat_minor": 5
}
