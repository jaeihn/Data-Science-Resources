{
 "cells": [
  {
   "cell_type": "markdown",
   "id": "f776626b-d576-4943-bf9b-84f79438bd2d",
   "metadata": {},
   "source": [
    "# Utils \n",
    "\n",
    "Useful custom Python functions."
   ]
  },
  {
   "cell_type": "markdown",
   "id": "6f870b8e-c301-4e35-add0-d6958a16dc2a",
   "metadata": {},
   "source": [
    "### Timer wrapper for functions (by Arman)"
   ]
  },
  {
   "cell_type": "markdown",
   "id": "31a00f7f-69ec-4383-a2ea-e42be54ba6da",
   "metadata": {},
   "source": [
    "```python\n",
    "import time \n",
    "\n",
    "def timer(f): \n",
    "    def wrapper():  \n",
    "        t1 = time.time()\n",
    "        result = f()  \n",
    "        t2 = time.time()\n",
    "        print(f\"{my_function.__name__} ran in {t2 - t1:.3f} sec\") \n",
    "        return result\n",
    "    return wrapper\n",
    "\n",
    "@timer\n",
    "f()\n",
    "```"
   ]
  },
  {
   "cell_type": "markdown",
   "id": "2fbf3bd7-a08a-4198-aa20-687d6364e53e",
   "metadata": {},
   "source": [
    "### Array broadcastability (by Arman)"
   ]
  },
  {
   "cell_type": "markdown",
   "id": "85ac9d20-1b5e-4b23-85b6-f62eb7f97962",
   "metadata": {},
   "source": [
    "```python\n",
    "def broadcastable(a, b):\n",
    "    print(\"The shape of a is:\" + f\"{a.shape}\".rjust(10))\n",
    "    print(\"The shape of b is:\" + f\"{b.shape}\".rjust(10))\n",
    "    print(\"\")\n",
    "    try:\n",
    "        print(f\"The shape of a + b is: {(a + b).shape}\")\n",
    "    except:\n",
    "        print(f\"ERROR: arrays are NOT broadcast compatible!\")\n",
    "```"
   ]
  }
 ],
 "metadata": {
  "kernelspec": {
   "display_name": "Python 3 (ipykernel)",
   "language": "python",
   "name": "python3"
  },
  "language_info": {
   "codemirror_mode": {
    "name": "ipython",
    "version": 3
   },
   "file_extension": ".py",
   "mimetype": "text/x-python",
   "name": "python",
   "nbconvert_exporter": "python",
   "pygments_lexer": "ipython3",
   "version": "3.10.6"
  }
 },
 "nbformat": 4,
 "nbformat_minor": 5
}
