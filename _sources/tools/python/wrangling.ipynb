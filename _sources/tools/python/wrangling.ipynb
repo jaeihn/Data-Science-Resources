{
 "cells": [
  {
   "cell_type": "markdown",
   "id": "54242100-54c1-4cdb-acd5-01dd52d7948d",
   "metadata": {},
   "source": [
    "# Data Wrangling"
   ]
  },
  {
   "cell_type": "markdown",
   "id": "cf766e05-f859-4dcf-8501-7c985475449a",
   "metadata": {},
   "source": [
    "```python\n",
    "import pandas as pd\n",
    "import numpy as np\n",
    "```"
   ]
  },
  {
   "cell_type": "markdown",
   "id": "74eb367e-098c-4209-81eb-4ec69a452355",
   "metadata": {},
   "source": [
    "## Series"
   ]
  },
  {
   "cell_type": "markdown",
   "id": "6e8c8438-9639-4144-9d95-20afe8bae17c",
   "metadata": {},
   "source": [
    "```python\n",
    "# Series from lists\n",
    "pd.Series(data=[ ... ],\n",
    "          index=[...],\n",
    "          name=''\n",
    "         )\n",
    "\n",
    "# Series from dicts \n",
    "pd.Series(data={\n",
    "    ...\n",
    "})\n",
    "```"
   ]
  },
  {
   "cell_type": "markdown",
   "id": "ea50ac55-d055-41c4-834f-0bb0e266bd8b",
   "metadata": {},
   "source": [
    "## Data Frames"
   ]
  },
  {
   "cell_type": "markdown",
   "id": "948e9356-da9c-4a95-b8b5-da6482579e85",
   "metadata": {},
   "source": [
    "### Creating Data Frames \n",
    "\n",
    "Data Frames can be made from: \n",
    "- list of lists\n",
    "- ndarray\n",
    "- dict\n",
    "- list of tuples\n",
    "- Series"
   ]
  },
  {
   "cell_type": "markdown",
   "id": "51c31f43-6de7-4913-b432-e5091d2abd5f",
   "metadata": {},
   "source": [
    "```python\n",
    "# Data Frames from list of lists\n",
    "pd.DataFrame(data=[[ ... ],\n",
    "                   [ ... ]\n",
    "                  ],\n",
    "             index=['row1', 'row2'],\n",
    "             columns=['col1', 'col2']\n",
    "            )\n",
    "\n",
    "# Data Frames from dicts \n",
    "pd.DataFrame(data={\n",
    "    'col1' : [...],\n",
    "    'col2' : [...]\n",
    "}, index=['row1', 'row2'])\n",
    "```"
   ]
  },
  {
   "cell_type": "markdown",
   "id": "604c81b8-18b4-4d77-80f1-8dda8372267d",
   "metadata": {},
   "source": [
    "### Reading data"
   ]
  },
  {
   "cell_type": "markdown",
   "id": "12e688ac-053e-48b1-806e-36f485aea53f",
   "metadata": {},
   "source": [
    "```python \n",
    "# read file\n",
    "pd.read_csv(path, \n",
    "            usecols=range(start, end),\n",
    "            index_col=0,\n",
    "            parse_dates=True\n",
    "           )\n",
    "\n",
    "\n",
    "# glimpse of df\n",
    "df.head()\n",
    "df.tail()\n",
    "\n",
    "# data types of df\n",
    "df.info() \n",
    "df.dtypes\n",
    "\n",
    "# summary statistics\n",
    "df.describe(include='all')\n",
    "\n",
    "# organizing columns\n",
    "df.rename(columns= {\"old_col1\" : \"new_col1\",\n",
    "                    \"old_col2\" : \"new_col2\"})\n",
    "df.columns = list_of_column_names\n",
    "\n",
    "# convert types \n",
    "df.column.astype(type)\n",
    "\n",
    "# set max df rows to view\n",
    "pd.set_option(\"display.max_rows\", n)\n",
    "\n",
    "# conditional coloring\n",
    "df.style.background_gradient(cmap='rainbow')\n",
    "```"
   ]
  },
  {
   "cell_type": "markdown",
   "id": "aa412909-2a64-41ce-b9b7-438df40097e6",
   "metadata": {},
   "source": [
    "### NA values"
   ]
  },
  {
   "cell_type": "markdown",
   "id": "fdb733fc-124e-4640-bb53-c8d390566af8",
   "metadata": {},
   "source": [
    "```python\n",
    "# boolean condition\n",
    "df.isna()\n",
    "\n",
    "# showing slices containing NA\n",
    "mask = df.isnull().any(axis=1)\n",
    "df[mask]\n",
    "\n",
    "# drop NA\n",
    "df.dropna()\n",
    "\n",
    "# fill NA\n",
    "df.fillna(0)\n",
    "df.fillna(df.mean())\n",
    "```"
   ]
  },
  {
   "cell_type": "markdown",
   "id": "dd5a7e1b-b314-489c-b9fe-fe4749a871d5",
   "metadata": {},
   "source": [
    "### Indexing and Slicing\n",
    "\n",
    "| Method | Syntax |\n",
    "|--------|--------|\n",
    "| Select column/Series | `df[col_label]` | \n",
    "| Select sliced df | `df[[col_labels]]` | \n",
    "| Select row slice | `df[row_1_int:row_2_int]` | \n",
    "| Select row/column by label | `df.loc[row_label(s), col_label(s)]` |\n",
    "| Select row/column by integer | `df.iloc[row_int(s), col_int(s)]` |\n",
    "| Select by row integer & column label | `df.loc[df.index[row_int], col_label]` |\n",
    "| Select by row label & column integer | `df.loc[row_label, df.columns[col_int]]` | \n",
    "| Select by boolean | `df[bool_vec]` | \n",
    "| Select by boolean expression | `df.query(\"expression\")` | "
   ]
  },
  {
   "cell_type": "markdown",
   "id": "4e9ae41d-9e4a-4e12-8aeb-10e5550935e3",
   "metadata": {},
   "source": [
    "```python\n",
    "# set column as index\n",
    "df = df.set_index(col)\n",
    "\n",
    "df = df.reset_index()\n",
    "\n",
    "df.sort_values(by='col', ascending=True)\n",
    "df.sample()\n",
    "df.min(axis=0, numeric_only=True)\n",
    "df.idxmin()\n",
    "```"
   ]
  },
  {
   "cell_type": "markdown",
   "id": "274498b6-a724-469b-a0a2-5b409ec1c2da",
   "metadata": {},
   "source": [
    "### Query"
   ]
  },
  {
   "cell_type": "markdown",
   "id": "677fd348-0b4f-49f2-98a5-f7cb4ad38610",
   "metadata": {},
   "source": [
    "```python\n",
    "df.query(\"column1 > condition1 & column2 > condition2\")\n",
    "df.query(\"column > @variable\")\n",
    "```"
   ]
  },
  {
   "cell_type": "markdown",
   "id": "8a547c27-a9ab-4b69-b435-84dd8d8369f9",
   "metadata": {},
   "source": [
    "### Data Manipulation"
   ]
  },
  {
   "cell_type": "markdown",
   "id": "d8bb1e24-3835-4fbc-b267-22d70910d786",
   "metadata": {},
   "source": [
    "```python\n",
    "# drop columns\n",
    "df.drop(columns=list_of_col)\n",
    "\n",
    "# drop rows\n",
    "df.drop(df.index[x:], axis=0)\n",
    "\n",
    "# pivot longer\n",
    "df.melt(id_vars= , \n",
    "        value_vars= , \n",
    "        var_name=, \n",
    "        ignore_index=False)\n",
    "\n",
    "# pivot wider\n",
    "df.pivot(index= ,\n",
    "         columns= ,\n",
    "         values= )\n",
    "\n",
    "df.pivot_table()\n",
    "\n",
    "# append data frame vertically\n",
    "pd.concat((df1, df2), axis=0)\n",
    "\n",
    "#append data frame horizontally\n",
    "pd.concat((df1, df2), axis=1, ignore_index=True)\n",
    "\n",
    "df.merge(df1, df2, how=\"inner, outer, left, right\", on=\"column\")\n",
    "\n",
    "# apply function column-wise, row-wise\n",
    "# for functions that accept series \n",
    "df.apply(function, parameters=...)\n",
    "\n",
    "# apply function element-wise\n",
    "# for functions that accepts single values \n",
    "df.applymap(function, parameters=...)\n",
    "```"
   ]
  },
  {
   "cell_type": "markdown",
   "id": "af8edeb2-bfb2-4593-88d7-34fad0de057b",
   "metadata": {},
   "source": [
    "```python\n",
    "# show groups as dict\n",
    "df.groupby(by='col_name').groups\n",
    "\n",
    "# slice by groups\n",
    "df.groupby(by='col_name').get_group('group_value')\n",
    "\n",
    "# summarize by group\n",
    "df.groupby(by='col_name').mean()\n",
    "\n",
    "# apply multiple functions\n",
    "df.groupby(by='col_name').aggregate(['mean', 'sum', 'count'])\n",
    "\n",
    "# apply different functions to different columns\n",
    "df.aggregate({\n",
    "    'column1' : ['function'],\n",
    "    'column2' : ['function', ...]\n",
    "})\n",
    "```"
   ]
  },
  {
   "cell_type": "markdown",
   "id": "1e473c4a-f9c9-4aa3-aa15-e7f9db5b174a",
   "metadata": {},
   "source": [
    "### Columns containing strings\n",
    "\n",
    "\n",
    "Method | Description\n",
    ":------|:------------\n",
    "Series.str.cat | Concatenate strings\n",
    "Series.str.split | Split strings on delimiter\n",
    "Series.str.rsplit | Split strings on delimiter working from the end of the string\n",
    "Series.str.get | Index into each element (retrieve i-th element)\n",
    "Series.str.join | Join strings in each element of the Series with passed separator\n",
    "Series.str.get_dummies | Split strings on the delimiter returning DataFrame of dummy variables\n",
    "Series.str.contains | Return boolean array if each string contains pattern/regex\n",
    "Series.str.replace | Replace occurrences of pattern/regex/string with some other string or the return value of a callable given the occurrence\n",
    "Series.str.repeat | Duplicate values (s.str.repeat(3) equivalent to x * 3)\n",
    "Series.str.pad | \"Add whitespace to left, right, or both sides of strings\"\n",
    "Series.str.center | Equivalent to str.center\n",
    "Series.str.ljust | Equivalent to str.ljust\n",
    "Series.str.rjust | Equivalent to str.rjust\n",
    "Series.str.zfill | Equivalent to str.zfill\n",
    "Series.str.wrap | Split long strings into lines with length less than a given width\n",
    "Series.str.slice | Slice each string in the Series\n",
    "Series.str.slice_replace | Replace slice in each string with passed value\n",
    "Series.str.count | Count occurrences of pattern\n",
    "Series.str.startswith | Equivalent to str.startswith(pat) for each element\n",
    "Series.str.endswith | Equivalent to str.endswith(pat) for each element\n",
    "Series.str.findall | Compute list of all occurrences of pattern/regex for each string\n",
    "Series.str.match | \"Call re.match on each element, returning matched groups as list\"\n",
    "Series.str.extract | \"Call re.search on each element, returning DataFrame with one row for each element and one column for each regex capture group\"\n",
    "Series.str.extractall | \"Call re.findall on each element, returning DataFrame with one row for each match and one column for each regex capture group\"\n",
    "Series.str.len | Compute string lengths\n",
    "Series.str.strip | Equivalent to str.strip\n",
    "Series.str.rstrip | Equivalent to str.rstrip\n",
    "Series.str.lstrip | Equivalent to str.lstrip\n",
    "Series.str.partition | Equivalent to str.partition\n",
    "Series.str.rpartition | Equivalent to str.rpartition\n",
    "Series.str.lower | Equivalent to str.lower\n",
    "Series.str.casefold | Equivalent to str.casefold\n",
    "Series.str.upper | Equivalent to str.upper\n",
    "Series.str.find | Equivalent to str.find\n",
    "Series.str.rfind | Equivalent to str.rfind\n",
    "Series.str.index | Equivalent to str.index\n",
    "Series.str.rindex | Equivalent to str.rindex\n",
    "Series.str.capitalize | Equivalent to str.capitalize\n",
    "Series.str.swapcase | Equivalent to str.swapcase\n",
    "Series.str.normalize | Return Unicode normal form. Equivalent to unicodedata.normalize\n",
    "Series.str.translate | Equivalent to str.translate\n",
    "Series.str.isalnum | Equivalent to str.isalnum\n",
    "Series.str.isalpha | Equivalent to str.isalpha\n",
    "Series.str.isdigit | Equivalent to str.isdigit\n",
    "Series.str.isspace | Equivalent to str.isspace\n",
    "Series.str.islower | Equivalent to str.islower\n",
    "Series.str.isupper | Equivalent to str.isupper\n",
    "Series.str.istitle | Equivalent to str.istitle\n",
    "Series.str.isnumeric | Equivalent to str.isnumeric\n",
    "Series.str.isdecimal | Equivalent to str.isdecimal"
   ]
  },
  {
   "cell_type": "markdown",
   "id": "d0fc9e84-bdd1-4b39-9d0d-e4839717d836",
   "metadata": {},
   "source": [
    "### Regular Expressions\n",
    "\n",
    "```python\n",
    "import re\n",
    "```\n",
    "\n",
    "Method | Description\n",
    ":------|:-----------\n",
    "match() | Call re.match() on each element, returning a boolean.\n",
    "extract() | Call re.match() on each element, returning matched groups as strings.\n",
    "findall() | Call re.findall() on each element\n",
    "replace() | Replace occurrences of pattern with some other string\n",
    "contains() | Call re.search() on each element, returning a boolean\n",
    "count() | Count occurrences of pattern\n",
    "split() | Equivalent to str.split(), but accepts regexps\n",
    "rsplit() | Equivalent to str.rsplit(), but accepts regexps"
   ]
  },
  {
   "cell_type": "markdown",
   "id": "f3fb2689-f7e0-4a54-a2c8-3768b8854b8b",
   "metadata": {},
   "source": [
    "### Date Time \n",
    "\n",
    "```python\n",
    "from datetime import datetime, timedelta\n",
    "\n",
    "# create datetime from string\n",
    "datetime.strptime('string', '%format %to %extract')\n",
    "pd.to_datetime(string_of_dates, format='%date %format')\n",
    "\n",
    "# extract time elements from date\n",
    "d.strftime('%Y') # extract year\n",
    "\n",
    "```\n",
    "\n"
   ]
  }
 ],
 "metadata": {
  "kernelspec": {
   "display_name": "Python 3 (ipykernel)",
   "language": "python",
   "name": "python3"
  },
  "language_info": {
   "codemirror_mode": {
    "name": "ipython",
    "version": 3
   },
   "file_extension": ".py",
   "mimetype": "text/x-python",
   "name": "python",
   "nbconvert_exporter": "python",
   "pygments_lexer": "ipython3",
   "version": "3.10.6"
  }
 },
 "nbformat": 4,
 "nbformat_minor": 5
}
