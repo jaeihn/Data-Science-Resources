{
 "cells": [
  {
   "cell_type": "markdown",
   "id": "54242100-54c1-4cdb-acd5-01dd52d7948d",
   "metadata": {},
   "source": [
    "# Data Wrangling"
   ]
  },
  {
   "cell_type": "markdown",
   "id": "70df07e3-444a-40b8-9697-8402604e3cca",
   "metadata": {},
   "source": [
    "## Data Wrangling"
   ]
  },
  {
   "cell_type": "markdown",
   "id": "12e688ac-053e-48b1-806e-36f485aea53f",
   "metadata": {},
   "source": [
    "```python \n",
    "pd.read_csv(path)\n",
    "pd.read_csv(url)\n",
    "\n",
    "df.head()\n",
    "df.info()\n",
    "df.describe(include='all')\n",
    "df.dtypes\n",
    "\n",
    "# renaming columns\n",
    "df.rename(columns= {\"old_col1\" : \"new_col1\",\n",
    "                    \"old_col2\" : \"new_col2\"})\n",
    "df.columns = list_of_column_names\n",
    "\n",
    "# set column as index\n",
    "df = df.set_index(col)\n",
    "\n",
    "df = df.reset_index()\n",
    "\n",
    "df.sort_values(by='col', ascending=True)\n",
    "df.sample()\n",
    "df.min(numeric_only=True)\n",
    "df.idxmin()\n",
    "\n",
    "\n",
    "df.drop(columns=list_of_col)\n",
    "```"
   ]
  },
  {
   "cell_type": "markdown",
   "id": "d8bb1e24-3835-4fbc-b267-22d70910d786",
   "metadata": {},
   "source": [
    "```python\n",
    "# pivot longer\n",
    "df.melt(id_vars= , \n",
    "        value_vars= , \n",
    "        var_name=, \n",
    "        ignore_index=False)\n",
    "\n",
    "# pivot wider\n",
    "df.pivot(index= ,\n",
    "         columns= ,\n",
    "         values= )\n",
    "\n",
    "# append data frame vertically\n",
    "pd.concat((df1, df2), axis=0)\n",
    "\n",
    "#append data frame horizontally\n",
    "pd.concat((df1, df2), axis=1, ignore_index=True)\n",
    "\n",
    "```"
   ]
  },
  {
   "cell_type": "markdown",
   "id": "dd5a7e1b-b314-489c-b9fe-fe4749a871d5",
   "metadata": {},
   "source": [
    "| Method | Syntax |\n",
    "|--------|--------|\n",
    "| Select column | `df[col_label]` | \n",
    "| Select row slice | `df[row_1_int:row_2_int]` | \n",
    "| Select row/column by label | `df.loc[row_label(s), col_label(s)]` |\n",
    "| Select row/column by integer | `df.iloc[row_int(s), col_int(s)]` |\n",
    "| Select by row integer & column label | `df.loc[df.index[row_int], col_label]` |\n",
    "| Select by row label & column integer | `df.loc[row_label, df.columns[col_int]]` | \n",
    "| Select by boolean | `df[bool_vec]` | \n",
    "| Select by boolean expression | `df.query(\"expression\")` | "
   ]
  }
 ],
 "metadata": {
  "kernelspec": {
   "display_name": "Python 3 (ipykernel)",
   "language": "python",
   "name": "python3"
  },
  "language_info": {
   "codemirror_mode": {
    "name": "ipython",
    "version": 3
   },
   "file_extension": ".py",
   "mimetype": "text/x-python",
   "name": "python",
   "nbconvert_exporter": "python",
   "pygments_lexer": "ipython3",
   "version": "3.10.6"
  }
 },
 "nbformat": 4,
 "nbformat_minor": 5
}
