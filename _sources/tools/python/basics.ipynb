{
 "cells": [
  {
   "cell_type": "markdown",
   "id": "42915720-460d-4dc2-a5c7-d85bb40d6eea",
   "metadata": {},
   "source": [
    "# Python"
   ]
  },
  {
   "cell_type": "markdown",
   "id": "2606c97b-6e05-44eb-ab79-0c418cefee38",
   "metadata": {},
   "source": [
    "## Textbooks \n",
    "\n",
    "* Whirlwind Tour of Python https://jakevdp.github.io/WhirlwindTourOfPython/index.html\n",
    "* Docstrings - https://peps.python.org/pep-0257/\n",
    "* Python Data Science Handbook https://jakevdp.github.io/PythonDataScienceHandbook/02.00-introduction-to-numpy.html"
   ]
  },
  {
   "cell_type": "markdown",
   "id": "7100a831-94a3-416c-a41d-8f612fd4193b",
   "metadata": {},
   "source": [
    "----"
   ]
  },
  {
   "cell_type": "markdown",
   "id": "93382ff7-b381-4ddf-9770-2642fd94b039",
   "metadata": {},
   "source": [
    "### `if` statement"
   ]
  },
  {
   "cell_type": "markdown",
   "id": "9847d034-35af-4704-b055-7477d6028442",
   "metadata": {},
   "source": [
    "```python\n",
    "# default\n",
    "if condition1:\n",
    "    ...\n",
    "elif condition2:\n",
    "    ...\n",
    "else:\n",
    "    ...\n",
    "    \n",
    "# inline\n",
    "... if ... else ...\n",
    "```"
   ]
  },
  {
   "cell_type": "markdown",
   "id": "ffc06695-39e5-452c-b79d-04f4bcc6741d",
   "metadata": {},
   "source": [
    "### `for`-Loop"
   ]
  },
  {
   "cell_type": "markdown",
   "id": "9535f979-5db5-4719-a8c2-ddf4cd367664",
   "metadata": {},
   "source": [
    "```python\n",
    "# one sequence\n",
    "for i in sequence: \n",
    "    ...\n",
    "    \n",
    "# multiple sequences together\n",
    "for i, j in zip(list1, list2):\n",
    "    print(i, j)\n",
    "    ...\n",
    "\n",
    "# numbering list elements\n",
    "for index, item in enumerate(list):\n",
    "    ...\n",
    "\n",
    "# numbering dict elements\n",
    "for index, (key, value) in enumerate(dict.items()):\n",
    "    ...\n",
    "\n",
    "# key-value in dict\n",
    "for k, v in dict:\n",
    "    ...\n",
    "```"
   ]
  },
  {
   "cell_type": "markdown",
   "id": "392bcf7b-392b-4d15-a73f-daf8a16cb71d",
   "metadata": {},
   "source": [
    "### `while`-Loop"
   ]
  },
  {
   "cell_type": "markdown",
   "id": "514678ad-56c6-4b00-a20b-ec1f7f1d42d9",
   "metadata": {},
   "source": [
    "```python\n",
    "while condition:\n",
    "```"
   ]
  },
  {
   "cell_type": "markdown",
   "id": "aae7a053-e6f5-485d-a904-72cb8c386a2c",
   "metadata": {},
   "source": [
    "### `list` Comprehension / `set` Comprehension / `dict` Comprehension"
   ]
  },
  {
   "cell_type": "markdown",
   "id": "008782b9-0b4d-44c5-b8aa-165cf809964f",
   "metadata": {},
   "source": [
    "```python\n",
    "# list comprehension\n",
    "\n",
    "## multiple variables\n",
    "[(i, j) for i in ... for j in ...]\n",
    "\n",
    "## if-else structure\n",
    "[i / 2 if i % 2 else i for i in ...]\n",
    "\n",
    "# set comprehension\n",
    "{i * 2 for i in ...} \n",
    "\n",
    "# dict comprehension\n",
    "{word: len(word) for word in ...}\n",
    "```"
   ]
  },
  {
   "cell_type": "markdown",
   "id": "5a6e0510-5361-46ab-ab65-98060bc85fc3",
   "metadata": {},
   "source": [
    "### Exceptions"
   ]
  },
  {
   "cell_type": "markdown",
   "id": "e6974289-3a9d-4ea1-ae5c-ad91f88128dc",
   "metadata": {},
   "source": [
    "```python \n",
    "# define custom errors\n",
    "class CustomError(Exception):\n",
    "    pass\n",
    "# use custom error \n",
    "if some_condition:\n",
    "    raise CustomError\n",
    "# or just general Exception\n",
    "if some_condition:\n",
    "    raise Exception(\"Error message to show\")\n",
    "\n",
    "\n",
    "# you can respond to different types of exceptions separately\n",
    "try:\n",
    "    ...\n",
    "except TypeError:\n",
    "    ...\n",
    "except NameError:\n",
    "    ...\n",
    "except:\n",
    "    ...\n",
    "    \n",
    "    \n",
    "try:\n",
    "    # test to see if it throws errors\n",
    "except Exception as ex: \n",
    "    # catch specific exception\n",
    "except:\n",
    "    # catch general exceptions\n",
    "else:\n",
    "    # do if no errors are caught\n",
    "finally:\n",
    "    # do something after everything ends,\n",
    "    # regardless of error or non-error\n",
    "```"
   ]
  },
  {
   "cell_type": "markdown",
   "id": "5e763a13-6716-4604-b86a-360a69adad8f",
   "metadata": {},
   "source": [
    "----"
   ]
  },
  {
   "cell_type": "markdown",
   "id": "fd78e33c-bc2e-4c90-a95c-2d2549b2be01",
   "metadata": {},
   "source": [
    "### Defining custom functions"
   ]
  },
  {
   "cell_type": "markdown",
   "id": "2cdcd5a2-ee5e-4a29-81a8-6716c1418571",
   "metadata": {},
   "source": [
    "We can supply `*args` for arbitrary number of positional arguments, `**kwargs` for keyword arguments."
   ]
  },
  {
   "cell_type": "markdown",
   "id": "ed3bc8fe-7aff-4708-9584-7fa27c67165b",
   "metadata": {},
   "source": [
    "```python\n",
    "# default\n",
    "def function(arg1, arg2, *args, **kwargs):\n",
    "    # content\n",
    "    return output1, output2\n",
    "\n",
    "# anonymous function\n",
    "lambda x: x+1\n",
    "\n",
    "## multiple arguments and multiple outputs\n",
    "lambda x, y: (output1, output2)(input1, input2)\n",
    "```"
   ]
  },
  {
   "cell_type": "markdown",
   "id": "31106095-e9f2-468f-b1fa-cbc5baba071a",
   "metadata": {},
   "source": [
    "### Defining custom classes"
   ]
  },
  {
   "cell_type": "markdown",
   "id": "ab56bcd8-c55e-47a5-a610-af58594414ac",
   "metadata": {},
   "source": [
    "```python\n",
    "class CustomClass(Inheritance):\n",
    "    \n",
    "    # class attributes\n",
    "    name = \"\"\n",
    "    age = 20\n",
    "    \n",
    "    # initializer \n",
    "    def __init__(self, arg1, arg2):\n",
    "        super().__init__ # inherit\n",
    "        self.name = arg1\n",
    "        self.age = arg2\n",
    "    \n",
    "    # instance method\n",
    "    def function(self):\n",
    "        ...\n",
    "    \n",
    "    @classmethod\n",
    "    def function(cls, *arg):\n",
    "        return cls(...)\n",
    "\n",
    "    @staticmethod\n",
    "    def function():\n",
    "        # helper functions that are better when shipped together\n",
    "        # for clarity\n",
    "    \n",
    "    @property\n",
    "    def prop(self):\n",
    "        return ...\n",
    "        # save return of function as an attribute\n",
    "        # e.g. np.shape()\n",
    "        \n",
    "    @<attribute>.setter\n",
    "    def prop(self, *args):\n",
    "        # set new values for property\n",
    "        \n",
    "    @<attribute>.deleter\n",
    "    def prop(self):\n",
    "        # set to None to delete\n",
    "```"
   ]
  },
  {
   "cell_type": "markdown",
   "id": "f8d0f786-d6fd-4f5f-85f3-76c3eebb3e8b",
   "metadata": {},
   "source": [
    "### Defining custom errors"
   ]
  },
  {
   "cell_type": "markdown",
   "id": "16137beb-f630-4bee-96f1-a4b94b7c22f7",
   "metadata": {},
   "source": [
    "```python \n",
    "class CustomError(Exception):\n",
    "    pass\n",
    "```"
   ]
  },
  {
   "cell_type": "markdown",
   "id": "fd099e26-8304-493f-8572-8a4521a2c518",
   "metadata": {},
   "source": [
    "### Testing"
   ]
  },
  {
   "cell_type": "markdown",
   "id": "b1d54aec-5c0d-4073-bfaa-41cf2cda6d5c",
   "metadata": {},
   "source": [
    "```python\n",
    "assert expression, \"Error message\"\n",
    "```"
   ]
  },
  {
   "cell_type": "markdown",
   "id": "a395a7fd-2e0b-467e-9838-697d185e7358",
   "metadata": {},
   "source": [
    "## Documentation"
   ]
  },
  {
   "cell_type": "markdown",
   "id": "abef7da5-bf8d-406f-8a5b-27fee0f52913",
   "metadata": {},
   "source": [
    "### NumPy/Scipy "
   ]
  },
  {
   "cell_type": "markdown",
   "id": "4bf15baa-e5d4-42f3-b582-933fa60de0de",
   "metadata": {},
   "source": [
    "```python\n",
    "def function_name(param1, param2, param3):\n",
    "    \"\"\"First line is a short description of the function.\n",
    "\n",
    "    A paragraph describing in a bit more detail what the\n",
    "    function does and what algorithms it uses and common\n",
    "    use cases.\n",
    "\n",
    "    Parameters\n",
    "    ----------\n",
    "    param1 : datatype\n",
    "        A description of param1.\n",
    "    param2 : datatype\n",
    "        A description of param2.\n",
    "    param3 : datatype\n",
    "        A longer description because maybe this requires\n",
    "        more explanation and we can use several lines.\n",
    "\n",
    "    Returns\n",
    "    -------\n",
    "    datatype\n",
    "        A description of the output, datatypes and behaviours.\n",
    "        Describe special cases and anything the user needs to\n",
    "        know to use the function.\n",
    "\n",
    "    Examples\n",
    "    --------\n",
    "    >>> function_name(3,8,-5)\n",
    "    2.0\n",
    "    \"\"\"\n",
    "    # function content\n",
    "```"
   ]
  },
  {
   "cell_type": "markdown",
   "id": "908cc44a-47b7-4978-b8be-9487ff1890cc",
   "metadata": {},
   "source": [
    "### print session info\n",
    "\n",
    "```python\n",
    "!pip install session_info\n",
    "\n",
    "import session_info\n",
    "\n",
    "session_info.show()\n",
    "```"
   ]
  },
  {
   "cell_type": "markdown",
   "id": "7de82d12-020b-4c74-96f3-c75d112b0b49",
   "metadata": {},
   "source": [
    "### Complexity"
   ]
  },
  {
   "cell_type": "markdown",
   "id": "ca50415d-a3b3-4f3d-9ce4-34d1c22dc946",
   "metadata": {},
   "source": [
    "```python\n",
    "import numpy as np\n",
    "\n",
    "np.random.shuffle(x)\n",
    "\n",
    "%timeit -r1 -n1 code\n",
    "\n",
    "big_number = 10_000_000\n",
    "```"
   ]
  }
 ],
 "metadata": {
  "kernelspec": {
   "display_name": "Python 3 (ipykernel)",
   "language": "python",
   "name": "python3"
  },
  "language_info": {
   "codemirror_mode": {
    "name": "ipython",
    "version": 3
   },
   "file_extension": ".py",
   "mimetype": "text/x-python",
   "name": "python",
   "nbconvert_exporter": "python",
   "pygments_lexer": "ipython3",
   "version": "3.10.6"
  }
 },
 "nbformat": 4,
 "nbformat_minor": 5
}
