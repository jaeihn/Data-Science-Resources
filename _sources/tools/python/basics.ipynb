{
 "cells": [
  {
   "cell_type": "markdown",
   "id": "42915720-460d-4dc2-a5c7-d85bb40d6eea",
   "metadata": {},
   "source": [
    "# General"
   ]
  },
  {
   "cell_type": "markdown",
   "id": "23cbed7e-a710-4089-a748-c756975c963e",
   "metadata": {},
   "source": [
    "### print session info\n",
    "\n",
    "```python\n",
    "!pip install session_info\n",
    "\n",
    "import session_info\n",
    "\n",
    "session_info.show()\n",
    "```"
   ]
  },
  {
   "cell_type": "markdown",
   "id": "3032219a-a8c8-4db1-a616-4fa3f06cec7e",
   "metadata": {},
   "source": [
    "## Algorithms & Data Structures"
   ]
  },
  {
   "cell_type": "markdown",
   "id": "2f60fe2a-f9ba-491e-9dc3-c1f96362a394",
   "metadata": {},
   "source": [
    "### Complexity"
   ]
  },
  {
   "cell_type": "markdown",
   "id": "37c7eea0-361a-4c86-97c4-7da3a72ef1b8",
   "metadata": {},
   "source": [
    "```python\n",
    "import numpy as np\n",
    "\n",
    "np.random.shuffle(x)\n",
    "\n",
    "%timeit -r1 -n1 code\n",
    "\n",
    "big_number = 10_000_000\n",
    "```"
   ]
  },
  {
   "cell_type": "markdown",
   "id": "bfc6134b-2012-40e2-9409-3ca7e8ae312a",
   "metadata": {},
   "source": [
    "Built-in Python `sort()` uses ...\n",
    "\n",
    "batch multiplication (loop vs. vectorized)"
   ]
  },
  {
   "cell_type": "markdown",
   "id": "0f49525b-acc9-4177-a0aa-982feba559a4",
   "metadata": {},
   "source": [
    "## General"
   ]
  },
  {
   "cell_type": "markdown",
   "id": "5207b007-04ac-4480-88c1-e6cbf77d0dc0",
   "metadata": {},
   "source": [
    "### Basic Functions"
   ]
  },
  {
   "cell_type": "markdown",
   "id": "b0c94b7f-02b8-4039-9474-81a003021cdd",
   "metadata": {},
   "source": [
    "```python\n",
    "# print all list methods\n",
    "dir(list)\n",
    "\n",
    "range()\n",
    "zip()\n",
    "enumerate()\n",
    "isinstance(object, type)\n",
    "\n",
    "# when comparing float, to avoid rounding errors\n",
    "math.isclose()\n",
    "np.isclose() \n",
    "\n",
    "# execute shell commands by appending !\n",
    "!flake8 file.py\n",
    "\n",
    "copy()\n",
    "deepcopy()\n",
    "```"
   ]
  },
  {
   "cell_type": "markdown",
   "id": "c8c4749b-f1fb-4c7f-b5f7-e78eb6c14cc9",
   "metadata": {},
   "source": [
    "### `list` methods"
   ]
  },
  {
   "cell_type": "markdown",
   "id": "03e2885c-531c-4c49-a560-26228fa33b3b",
   "metadata": {},
   "source": [
    "```python\n",
    "# list filled with repeated values\n",
    "l = ['a', 'b', 'c'] * 100\n",
    "```"
   ]
  },
  {
   "cell_type": "markdown",
   "id": "8b247590-11f1-465f-83a9-e6c76a5a60ae",
   "metadata": {},
   "source": [
    "### `string` methods"
   ]
  },
  {
   "cell_type": "markdown",
   "id": "39cb159f-4625-4aa4-a3f5-be7bd791f22b",
   "metadata": {},
   "source": [
    "```python\n",
    "# formatted string \n",
    "print(f\"Value of {pi} is {pi:0.8f}\")\n",
    "```"
   ]
  },
  {
   "cell_type": "markdown",
   "id": "e317d1cc-d7c9-4ff7-882d-2252f325f790",
   "metadata": {},
   "source": [
    "### `dict` methods"
   ]
  },
  {
   "cell_type": "markdown",
   "id": "87c122f6-299f-49b0-96d9-391f76eee43b",
   "metadata": {},
   "source": [
    "```python\n",
    "# iterating through dict\n",
    "for k, v in dict.items():\n",
    "    ...\n",
    "\n",
    "# delete items\n",
    "dict.pop('key')\n",
    "del dict['key']\n",
    "\n",
    "# catch invalid key with custom message\n",
    "dict.get('key', 'message for invalid key')\n",
    "```"
   ]
  },
  {
   "cell_type": "markdown",
   "id": "f21badcd-a088-4dc4-adc7-a7cf4f4f8dbd",
   "metadata": {
    "tags": []
   },
   "source": [
    "### NumPy"
   ]
  },
  {
   "cell_type": "markdown",
   "id": "1345dd83-e647-481d-b7b9-ebc59d9ecf3c",
   "metadata": {},
   "source": [
    "| Function | Description |\n",
    "|----------|-------------|\n",
    "np.arange()| sequence ranging from a to b \n",
    "np.linspace() | linearly spaced sequence\n",
    "np.ones \n",
    "np.zeros\n",
    "np.full | fill dimension with values\n",
    "np.random.rand() | fill with random values\n",
    "np.transpose()\n",
    "np.T\n",
    "np.mean()\n",
    "np.astype(int)\n",
    "np.shape\n",
    "np.reshape()\n",
    "np.newaxis\n",
    "np.ravel()\n",
    "np.flatten()"
   ]
  },
  {
   "cell_type": "markdown",
   "id": "93382ff7-b381-4ddf-9770-2642fd94b039",
   "metadata": {},
   "source": [
    "### `if` statement"
   ]
  },
  {
   "cell_type": "markdown",
   "id": "9847d034-35af-4704-b055-7477d6028442",
   "metadata": {},
   "source": [
    "```python\n",
    "# default\n",
    "if condition1:\n",
    "    ...\n",
    "elif condition2:\n",
    "    ...\n",
    "else:\n",
    "    ...\n",
    "    \n",
    "# inline\n",
    "... if ... else ...\n",
    "```"
   ]
  },
  {
   "cell_type": "markdown",
   "id": "ffc06695-39e5-452c-b79d-04f4bcc6741d",
   "metadata": {},
   "source": [
    "### Loops"
   ]
  },
  {
   "cell_type": "markdown",
   "id": "9535f979-5db5-4719-a8c2-ddf4cd367664",
   "metadata": {},
   "source": [
    "```python\n",
    "# for loop\n",
    "for i in sequence: \n",
    "    ...\n",
    "    \n",
    "# while loop\n",
    "while condition:\n",
    "    ...\n",
    "```"
   ]
  },
  {
   "cell_type": "markdown",
   "id": "5a6e0510-5361-46ab-ab65-98060bc85fc3",
   "metadata": {},
   "source": [
    "### Exceptions"
   ]
  },
  {
   "cell_type": "markdown",
   "id": "e6974289-3a9d-4ea1-ae5c-ad91f88128dc",
   "metadata": {},
   "source": [
    "```python \n",
    "\n",
    "# define custom errors\n",
    "class CustomError(Exception):\n",
    "    pass\n",
    "# use custom error \n",
    "if some_condition:\n",
    "    raise CustomError\n",
    "# or just general Exception\n",
    "if some_condition:\n",
    "    raise Exception(\"Error message to show\")\n",
    "\n",
    "try:\n",
    "    # test to see if it throws errors\n",
    "except Exception as ex: \n",
    "    # catch specific exception\n",
    "except:\n",
    "    # catch general exceptions\n",
    "else:\n",
    "    # do if no errors are caught\n",
    "finally:\n",
    "    # do something after everything ends,\n",
    "    # regardless of errror or non-error\n",
    "\n",
    "```"
   ]
  },
  {
   "cell_type": "markdown",
   "id": "fd78e33c-bc2e-4c90-a95c-2d2549b2be01",
   "metadata": {},
   "source": [
    "### Defining custom functions"
   ]
  },
  {
   "cell_type": "markdown",
   "id": "ed3bc8fe-7aff-4708-9584-7fa27c67165b",
   "metadata": {},
   "source": [
    "```python\n",
    "# default\n",
    "def function(arg1, arg2, ...):\n",
    "    # content\n",
    "    return output\n",
    "\n",
    "# anonymous function\n",
    "lambda x: x+1\n",
    "```"
   ]
  },
  {
   "cell_type": "markdown",
   "id": "2cdcd5a2-ee5e-4a29-81a8-6716c1418571",
   "metadata": {},
   "source": [
    "We can supply `*args` for arbitrary number of positional arguments, `**kwargs` for keyword arguments."
   ]
  },
  {
   "cell_type": "markdown",
   "id": "31106095-e9f2-468f-b1fa-cbc5baba071a",
   "metadata": {},
   "source": [
    "### Defining custom classes"
   ]
  },
  {
   "cell_type": "markdown",
   "id": "ab56bcd8-c55e-47a5-a610-af58594414ac",
   "metadata": {},
   "source": [
    "```python\n",
    "class CustomClass(Inheritance):\n",
    "    \n",
    "    # class attributes\n",
    "    name = \"\"\n",
    "    age = 20\n",
    "    \n",
    "    # initializer \n",
    "    def __init__(self, arg1, arg2):\n",
    "        super().__init__ # inherit\n",
    "        self.name = arg1\n",
    "        self.age = arg2\n",
    "    \n",
    "    # instance method\n",
    "    def function(self):\n",
    "        ...\n",
    "    \n",
    "    @classmethod\n",
    "    def function(cls, *arg):\n",
    "        retrun cls(...)\n",
    "\n",
    "    @staticmethod\n",
    "    def function():\n",
    "        # helper functions that are better when shipped together\n",
    "        # for clarity\n",
    "    \n",
    "    @property\n",
    "    def prop(self):\n",
    "        return ...\n",
    "        # save return of function as an attribute\n",
    "        # e.g. np.shape()\n",
    "        \n",
    "    @<attribute>.setter\n",
    "    def prop(self, *args):\n",
    "        # set new values for property\n",
    "        \n",
    "    @<attribute>.deleter\n",
    "    def prop(self):\n",
    "        # set to None to delete\n",
    "        \n",
    "        \n",
    "```"
   ]
  },
  {
   "cell_type": "markdown",
   "id": "fd099e26-8304-493f-8572-8a4521a2c518",
   "metadata": {},
   "source": [
    "### Testing"
   ]
  },
  {
   "cell_type": "markdown",
   "id": "b1d54aec-5c0d-4073-bfaa-41cf2cda6d5c",
   "metadata": {},
   "source": [
    "```python\n",
    "assert expression, \"Error message\"\n",
    "```"
   ]
  },
  {
   "cell_type": "markdown",
   "id": "a031fc70-8139-4b37-9521-7604952fbf32",
   "metadata": {},
   "source": [
    "## Data Wrangling"
   ]
  },
  {
   "cell_type": "markdown",
   "id": "ee1b7155-2301-48e8-981b-357db4552b67",
   "metadata": {},
   "source": [
    "```python \n",
    "pd.read_csv(path)\n",
    "pd.read_csv(url)\n",
    "\n",
    "df.head()\n",
    "df.info()\n",
    "df.describe(include='all')\n",
    "df.dtypes\n",
    "\n",
    "# renaming columns\n",
    "df.rename(columns= {\"old_col1\" : \"new_col1\",\n",
    "                    \"old_col2\" : \"new_col2\"})\n",
    "df.columns = list_of_column_names\n",
    "\n",
    "# set column as index\n",
    "df = df.set_index(col)\n",
    "\n",
    "df = df.reset_index()\n",
    "\n",
    "df.sort_values(by='col', ascending=True)\n",
    "df.sample()\n",
    "df.min(numeric_only=True)\n",
    "df.idxmin()\n",
    "\n",
    "\n",
    "df.drop(columns=list_of_col)\n",
    "```"
   ]
  },
  {
   "cell_type": "markdown",
   "id": "ecb5ee65-c603-48fd-b9a8-6fa48130f5d1",
   "metadata": {},
   "source": [
    "```python\n",
    "# pivot longer\n",
    "df.melt(id_vars= , \n",
    "        value_vars= , \n",
    "        var_name=, \n",
    "        ignore_index=False)\n",
    "\n",
    "# pivot wider\n",
    "df.pivot(index= ,\n",
    "         columns= ,\n",
    "         values= )\n",
    "\n",
    "# append data frame vertically\n",
    "pd.concat((df1, df2), axis=0)\n",
    "\n",
    "#append data frame horizontally\n",
    "pd.concat((df1, df2), axis=1, ignore_index=True)\n",
    "\n",
    "```"
   ]
  },
  {
   "cell_type": "markdown",
   "id": "a10d8a96-7d3e-4d0a-b01e-4fd0565f29fa",
   "metadata": {},
   "source": [
    "| Method | Syntax |\n",
    "|--------|--------|\n",
    "| Select column | `df[col_label]` | \n",
    "| Select row slice | `df[row_1_int:row_2_int]` | \n",
    "| Select row/column by label | `df.loc[row_label(s), col_label(s)]` |\n",
    "| Select row/column by integer | `df.iloc[row_int(s), col_int(s)]` |\n",
    "| Select by row integer & column label | `df.loc[df.index[row_int], col_label]` |\n",
    "| Select by row label & column integer | `df.loc[row_label, df.columns[col_int]]` | \n",
    "| Select by boolean | `df[bool_vec]` | \n",
    "| Select by boolean expression | `df.query(\"expression\")` | "
   ]
  },
  {
   "cell_type": "markdown",
   "id": "7247c9bb-008c-450c-bdec-36c8587e6dd3",
   "metadata": {},
   "source": [
    "## Toolbox"
   ]
  },
  {
   "cell_type": "markdown",
   "id": "3b09178a-3178-49ce-b674-c04e2b0fc9b9",
   "metadata": {},
   "source": [
    "### Timer wrapper for functions (by Arman)"
   ]
  },
  {
   "cell_type": "markdown",
   "id": "f6688b72-ac34-41ae-9859-7bf9bebf4ee8",
   "metadata": {},
   "source": [
    "```python\n",
    "import time \n",
    "\n",
    "def timer(f): \n",
    "    def wrapper():  \n",
    "        t1 = time.time()\n",
    "        result = f()  \n",
    "        t2 = time.time()\n",
    "        print(f\"{my_function.__name__} ran in {t2 - t1:.3f} sec\") \n",
    "        return result\n",
    "    return wrapper\n",
    "\n",
    "@timer\n",
    "f()\n",
    "```"
   ]
  },
  {
   "cell_type": "markdown",
   "id": "cbcc330b-1460-4196-969c-7f42ad9f2a6c",
   "metadata": {},
   "source": [
    "### Array broadcastability (by Arman)"
   ]
  },
  {
   "cell_type": "markdown",
   "id": "3c07b416-7cbf-4979-b136-e38eadfb6db8",
   "metadata": {},
   "source": [
    "```python\n",
    "def broadcastable(a, b):\n",
    "    print(\"The shape of a is:\" + f\"{a.shape}\".rjust(10))\n",
    "    print(\"The shape of b is:\" + f\"{b.shape}\".rjust(10))\n",
    "    print(\"\")\n",
    "    try:\n",
    "        print(f\"The shape of a + b is: {(a + b).shape}\")\n",
    "    except:\n",
    "        print(f\"ERROR: arrays are NOT broadcast compatible!\")\n",
    "```"
   ]
  },
  {
   "cell_type": "markdown",
   "id": "a395a7fd-2e0b-467e-9838-697d185e7358",
   "metadata": {},
   "source": [
    "## Documentation"
   ]
  },
  {
   "cell_type": "markdown",
   "id": "abef7da5-bf8d-406f-8a5b-27fee0f52913",
   "metadata": {},
   "source": [
    "### NumPy/Scipy "
   ]
  },
  {
   "cell_type": "markdown",
   "id": "4bf15baa-e5d4-42f3-b582-933fa60de0de",
   "metadata": {},
   "source": [
    "```python\n",
    "def function_name(param1, param2, param3):\n",
    "    \"\"\"First line is a short description of the function.\n",
    "\n",
    "    A paragraph describing in a bit more detail what the\n",
    "    function does and what algorithms it uses and common\n",
    "    use cases.\n",
    "\n",
    "    Parameters\n",
    "    ----------\n",
    "    param1 : datatype\n",
    "        A description of param1.\n",
    "    param2 : datatype\n",
    "        A description of param2.\n",
    "    param3 : datatype\n",
    "        A longer description because maybe this requires\n",
    "        more explanation and we can use several lines.\n",
    "\n",
    "    Returns\n",
    "    -------\n",
    "    datatype\n",
    "        A description of the output, datatypes and behaviours.\n",
    "        Describe special cases and anything the user needs to\n",
    "        know to use the function.\n",
    "\n",
    "    Examples\n",
    "    --------\n",
    "    >>> function_name(3,8,-5)\n",
    "    2.0\n",
    "    \"\"\"\n",
    "    # function content\n",
    "```"
   ]
  }
 ],
 "metadata": {
  "kernelspec": {
   "display_name": "Python 3 (ipykernel)",
   "language": "python",
   "name": "python3"
  },
  "language_info": {
   "codemirror_mode": {
    "name": "ipython",
    "version": 3
   },
   "file_extension": ".py",
   "mimetype": "text/x-python",
   "name": "python",
   "nbconvert_exporter": "python",
   "pygments_lexer": "ipython3",
   "version": "3.10.6"
  }
 },
 "nbformat": 4,
 "nbformat_minor": 5
}
