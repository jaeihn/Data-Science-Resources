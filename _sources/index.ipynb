{
 "cells": [
  {
   "cell_type": "markdown",
   "id": "e3b1e5eb-12b0-43c0-ac8f-13eed0c30cea",
   "metadata": {},
   "source": [
    "# Data Science Resources"
   ]
  },
  {
   "cell_type": "markdown",
   "id": "9014a78f-1836-4840-b96d-f1d4d35ef411",
   "metadata": {},
   "source": [
    "## Data Science Software stack\n",
    "\n",
    "<table>\n",
    "    <thead>\n",
    "        <tr>\n",
    "            <th align=\"center\">bash</th>\n",
    "            <th align=\"center\">git & GitHub Note</th>\n",
    "            <th align=\"center\">Python & R</th>\n",
    "            <th align=\"center\">IDE</th>\n",
    "        </tr>\n",
    "    </thead>\n",
    "    <tbody>\n",
    "    \t<tr>\n",
    "    \t\t<td>\n",
    "    \t\t\t<ul>\n",
    "\t    \t\t\t<li>Navigate filesystem</li>\n",
    "\t    \t\t\t<li>Launch programs</li>\n",
    "\t    \t\t\t<li>Automation</li>\n",
    "    \t\t\t</ul>\n",
    "    \t\t</td>\n",
    "    \t\t<td>\n",
    "    \t\t\t<ul>\n",
    "\t    \t\t\t<li>Version control</li>\n",
    "\t    \t\t\t<li>Collaboration</li>\n",
    "    \t\t\t</ul>\n",
    "    \t\t</td>\n",
    "    \t\t<td>\n",
    "    \t\t\t<ul>\n",
    "\t    \t\t\t<li>Data Analysis</li>\n",
    "\t    \t\t\t<li>Visualization</li>\n",
    "\t    \t\t\t<li>Statistics</li>\n",
    "\t    \t\t\t<li>Machine Learning</li>\n",
    "    \t\t\t</ul>\n",
    "    \t\t</td>\n",
    "    \t\t<td>\n",
    "    \t\t\t<ul>\n",
    "\t    \t\t\t<li>Edit files</li>\n",
    "\t    \t\t\t<li>Develop interactive notebooks</li>\n",
    "\t    \t\t\t<li>Generate reports</li>\n",
    "    \t\t\t</ul>\n",
    "    \t\t</td>\n",
    "    \t</tr>\n",
    "    </tbody>\n",
    "</table>\n"
   ]
  },
  {
   "cell_type": "markdown",
   "id": "6c8e8e76-90bb-4758-8581-5d8db3efb2b0",
   "metadata": {},
   "source": [
    "### Attribution\n",
    "\n",
    "Contents are from the Master of Data Science curriculum for the 2022-2023 cohort. "
   ]
  }
 ],
 "metadata": {
  "kernelspec": {
   "display_name": "Python 3 (ipykernel)",
   "language": "python",
   "name": "python3"
  },
  "language_info": {
   "codemirror_mode": {
    "name": "ipython",
    "version": 3
   },
   "file_extension": ".py",
   "mimetype": "text/x-python",
   "name": "python",
   "nbconvert_exporter": "python",
   "pygments_lexer": "ipython3",
   "version": "3.10.6"
  }
 },
 "nbformat": 4,
 "nbformat_minor": 5
}
