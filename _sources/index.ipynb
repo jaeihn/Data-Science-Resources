{
 "cells": [
  {
   "cell_type": "markdown",
   "id": "a94d51ef-6227-49dd-b8d5-3b0a1ab815fd",
   "metadata": {},
   "source": [
    "# Data Science Log"
   ]
  },
  {
   "cell_type": "markdown",
   "id": "2f207ebb-3b01-4bc4-b35b-25b1ad2808fa",
   "metadata": {},
   "source": [
    "Add description"
   ]
  }
 ],
 "metadata": {
  "kernelspec": {
   "display_name": "Python 3 (ipykernel)",
   "language": "python",
   "name": "python3"
  },
  "language_info": {
   "codemirror_mode": {
    "name": "ipython",
    "version": 3
   },
   "file_extension": ".py",
   "mimetype": "text/x-python",
   "name": "python",
   "nbconvert_exporter": "python",
   "pygments_lexer": "ipython3",
   "version": "3.10.6"
  }
 },
 "nbformat": 4,
 "nbformat_minor": 5
}
