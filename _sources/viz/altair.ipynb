{
 "cells": [
  {
   "cell_type": "markdown",
   "id": "54242100-54c1-4cdb-acd5-01dd52d7948d",
   "metadata": {},
   "source": [
    "# Python `altair`"
   ]
  },
  {
   "cell_type": "code",
   "execution_count": 3,
   "id": "22462fa6-8ade-45e4-93af-90ab593b627c",
   "metadata": {},
   "outputs": [],
   "source": [
    "import altair as alt"
   ]
  },
  {
   "cell_type": "code",
   "execution_count": null,
   "id": "f2fe14ce-f5e1-49ab-b92b-d0a87e8ea8da",
   "metadata": {},
   "outputs": [],
   "source": []
  }
 ],
 "metadata": {
  "kernelspec": {
   "display_name": "Python 3 (ipykernel)",
   "language": "python",
   "name": "python3"
  },
  "language_info": {
   "codemirror_mode": {
    "name": "ipython",
    "version": 3
   },
   "file_extension": ".py",
   "mimetype": "text/x-python",
   "name": "python",
   "nbconvert_exporter": "python",
   "pygments_lexer": "ipython3",
   "version": "3.10.6"
  }
 },
 "nbformat": 4,
 "nbformat_minor": 5
}
